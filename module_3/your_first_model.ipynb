{
 "cells": [
  {
   "cell_type": "markdown",
   "metadata": {},
   "source": [
    "# Загрузка Pandas и очистка данных"
   ]
  },
  {
   "cell_type": "code",
   "execution_count": 1,
   "metadata": {},
   "outputs": [],
   "source": [
    "import numpy as np \n",
    "import pandas as pd \n",
    "from datetime import datetime, timedelta\n",
    "import operator\n",
    "import matplotlib.pyplot as plt\n",
    "import seaborn as sns \n",
    "%matplotlib inline"
   ]
  },
  {
   "cell_type": "code",
   "execution_count": 2,
   "metadata": {},
   "outputs": [],
   "source": [
    "data = pd.read_csv('main_task.csv')"
   ]
  },
  {
   "cell_type": "code",
   "execution_count": 3,
   "metadata": {},
   "outputs": [],
   "source": [
    "RANDOM_SEED = 42"
   ]
  },
  {
   "cell_type": "code",
   "execution_count": 4,
   "metadata": {},
   "outputs": [],
   "source": [
    "# загрузим справочник с информацией о городах\n",
    "city_info = {\n",
    "    'Paris':\n",
    "    {\n",
    "        'population': 2138551,\n",
    "        'sunshine_hour': 1662,\n",
    "        'capital': 1,\n",
    "        'country': 'France',\n",
    "        'salary': 2970.50\n",
    "    },\n",
    "    'Stockholm':\n",
    "    {\n",
    "        'population': 1515017,\n",
    "        'sunshine_hour': 1821,\n",
    "        'capital': 1,\n",
    "        'country': 'Sweden',\n",
    "        'salary': 3016.63\n",
    "    },\n",
    "    'London':\n",
    "    {\n",
    "        'population': 7556900,\n",
    "        'sunshine_hour': 1410,\n",
    "        'capital': 1,\n",
    "        'country': 'GreatBritain',\n",
    "        'salary': 3596.46\n",
    "    },\n",
    "    'Berlin':\n",
    "    {\n",
    "        'population': 3426354,\n",
    "        'sunshine_hour': 1625,\n",
    "        'capital': 1,\n",
    "        'country': 'Germany',\n",
    "        'salary': 2961.31\n",
    "    },\n",
    "    'Munich':\n",
    "    {\n",
    "        'population': 1260391,\n",
    "        'sunshine_hour': 1709,\n",
    "        'capital': 0,\n",
    "        'country': 'Germany',\n",
    "        'salary': 3198.35\n",
    "    },\n",
    "    'Oporto':\n",
    "    {\n",
    "        'population': 249633,\n",
    "        'sunshine_hour': 2468,\n",
    "        'capital': 0,\n",
    "        'country': 'Portugal',\n",
    "        'salary': 986.84\n",
    "    },\n",
    "    'Milan':\n",
    "    {\n",
    "        'population': 1236837,\n",
    "        'sunshine_hour': 1914,\n",
    "        'capital': 0,\n",
    "        'country': 'Italy',\n",
    "        'salary': 1936.43\n",
    "    },\n",
    "    'Bratislava':\n",
    "    {\n",
    "        'population': 423737,\n",
    "        'sunshine_hour': 2042,\n",
    "        'capital': 1,\n",
    "        'country': 'Slovakia',\n",
    "        'salary': 1363.12\n",
    "    },\n",
    "    'Vienna':\n",
    "    {\n",
    "        'population': 1691468,\n",
    "        'sunshine_hour': 1930,\n",
    "        'capital': 1,\n",
    "        'country': 'Austria',\n",
    "        'salary': 2543.63\n",
    "    },\n",
    "    'Rome':\n",
    "    {\n",
    "        'population': 2318895,\n",
    "        'sunshine_hour': 2472,\n",
    "        'capital': 1,\n",
    "        'country': 'Italy',\n",
    "        'salary': 1704.60\n",
    "    },\n",
    "    'Barcelona':\n",
    "    {\n",
    "        'population': 1621537,\n",
    "        'sunshine_hour': 2524,\n",
    "        'capital': 0,\n",
    "        'country': 'Spain',\n",
    "        'salary': 1685.51\n",
    "    },\n",
    "    'Madrid':\n",
    "    {\n",
    "        'population': 3255944,\n",
    "        'sunshine_hour': 2769,\n",
    "        'capital': 1,\n",
    "        'country': 'Spain',\n",
    "        'salary': 1913.60\n",
    "    },\n",
    "    'Dublin':\n",
    "    {\n",
    "        'population': 1024027,\n",
    "        'sunshine_hour': 1424,\n",
    "        'capital': 1,\n",
    "        'country': 'Irland',\n",
    "        'salary': 2955.49\n",
    "    },\n",
    "    'Brussels':\n",
    "    {\n",
    "        'population': 1019022,\n",
    "        'sunshine_hour': 1546,\n",
    "        'capital': 1,\n",
    "        'country': 'Belgium',\n",
    "        'salary': 2824.34,\n",
    "    },\n",
    "    'Zurich':\n",
    "    {\n",
    "        'population': 341730,\n",
    "        'sunshine_hour': 1566,\n",
    "        'capital': 0,\n",
    "        'country': 'Switzeland',\n",
    "        'salary': 7051.92\n",
    "    },\n",
    "    'Warsaw':\n",
    "    {\n",
    "        'population': 1702139,\n",
    "        'sunshine_hour': 1676,\n",
    "        'capital': 1,\n",
    "        'country': 'Poland',\n",
    "        'salary': 1093.77\n",
    "    },\n",
    "    'Budapest':\n",
    "    {\n",
    "        'population': 1741041,\n",
    "        'sunshine_hour': 1928,\n",
    "        'capital': 1,\n",
    "        'country': 'Hungary',\n",
    "        'salary': 883.86\n",
    "    },\n",
    "    'Copenhagen':\n",
    "    {\n",
    "        'population': 1153615,\n",
    "        'sunshine_hour': 1780,\n",
    "        'capital': 1,\n",
    "        'country': 'Denmark',\n",
    "        'salary': 3805.44\n",
    "    },\n",
    "    'Amsterdam':\n",
    "    {\n",
    "        'population': 741636,\n",
    "        'sunshine_hour': 1662,\n",
    "        'capital': 1,\n",
    "        'country': 'Denmark',\n",
    "        'salary': 3454.92\n",
    "    },\n",
    "    'Lyon':\n",
    "    {\n",
    "        'population': 472317,\n",
    "        'sunshine_hour': 2002,\n",
    "        'capital': 0,\n",
    "        'country': 'France',\n",
    "        'salary': 2509.05\n",
    "    },\n",
    "    'Hamburg':\n",
    "    {\n",
    "        'population': 1739117,\n",
    "        'sunshine_hour': 1557,\n",
    "        'capital': 0,\n",
    "        'country': 'Germany',\n",
    "        'salary': 2788.01\n",
    "    },\n",
    "    'Lisbon':\n",
    "    {\n",
    "        'population': 517802,\n",
    "        'sunshine_hour': 2799,\n",
    "        'capital': 1,\n",
    "        'country': 'Portugal',\n",
    "        'salary': 1181.78\n",
    "    },\n",
    "    'Prague':\n",
    "    {\n",
    "        'population': 1165581,\n",
    "        'sunshine_hour': 1668,\n",
    "        'capital': 1,\n",
    "        'country': 'CzechRepublic',\n",
    "        'salary': 1361.87\n",
    "    },\n",
    "    'Oslo':\n",
    "    {\n",
    "        'population': 580000,\n",
    "        'sunshine_hour': 1668,\n",
    "        'capital': 1,\n",
    "        'country': 'Norway',\n",
    "        'salary': 3518.71\n",
    "    },\n",
    "    'Helsinki':\n",
    "    {\n",
    "        'population': 558457,\n",
    "        'sunshine_hour': 1780,\n",
    "        'capital': 1,\n",
    "        'country': 'Finland',\n",
    "        'salary': 3038.58\n",
    "    },\n",
    "    'Edinburgh':\n",
    "    {\n",
    "        'population': 464990,\n",
    "        'sunshine_hour': 1380,\n",
    "        'capital': 1,\n",
    "        'country': 'Scotland',\n",
    "        'salary': 2390.36\n",
    "    },\n",
    "    'Geneva':\n",
    "    {\n",
    "        'population': 200000,\n",
    "        'sunshine_hour': 1828,\n",
    "        'capital': 0,\n",
    "        'country': 'Switzeland',\n",
    "        'salary': 6473.85\n",
    "    },\n",
    "    'Ljubljana':\n",
    "    {\n",
    "        'population': 272220,\n",
    "        'sunshine_hour': 1712,\n",
    "        'capital': 1,\n",
    "        'country': 'Slovenia',\n",
    "        'salary': 1421.39\n",
    "    },\n",
    "    'Athens':\n",
    "    {\n",
    "        'population': 664046,\n",
    "        'sunshine_hour': 2771,\n",
    "        'capital': 1,\n",
    "        'country': 'Greece',\n",
    "        'salary': 925.83,\n",
    "    },\n",
    "    'Luxembourg':\n",
    "    {\n",
    "        'population': 628165,\n",
    "        'sunshine_hour': 1630,\n",
    "        'capital': 1,\n",
    "        'country': 'Luxembourg',\n",
    "        'salary': 4456.51\n",
    "    },\n",
    "    'Krakow':\n",
    "    {\n",
    "        'population': 755050,\n",
    "        'sunshine_hour': 1400,\n",
    "        'capital': 0,\n",
    "        'country': 'Poland',\n",
    "        'salary': 932.56\n",
    "    }\n",
    "}"
   ]
  },
  {
   "cell_type": "code",
   "execution_count": 5,
   "metadata": {},
   "outputs": [],
   "source": [
    "# перед обработкой NAN вынесем информацию о наличии пропуска как отдельный признак\n",
    "data['Number_of_Reviews_isNAN'] = pd.isna(data['Number of Reviews']).astype('uint8')\n",
    "data['Cuisine_Style_isNAN'] = pd.isna(data['Cuisine Style']).astype('uint8')\n",
    "data['Price_Range_isNAN'] = pd.isna(data['Price Range']).astype('uint8')"
   ]
  },
  {
   "cell_type": "code",
   "execution_count": 6,
   "metadata": {},
   "outputs": [],
   "source": [
    "# заполняем пропуски 0\n",
    "data['Number of Reviews'].fillna(0, inplace=True)"
   ]
  },
  {
   "cell_type": "code",
   "execution_count": 7,
   "metadata": {},
   "outputs": [],
   "source": [
    "# добавление признака количества основного ресторана и его филиалов\n",
    "data['count_branch'] = data.groupby(['Restaurant_id'])['Restaurant_id'].transform('count')"
   ]
  },
  {
   "cell_type": "code",
   "execution_count": 8,
   "metadata": {},
   "outputs": [],
   "source": [
    "# добавление признака количества дней между отзывами\n",
    "# разбиваем столбец объединяющий отзывы и даты отзывов\n",
    "df = data['Reviews'].str.split(', \\[\\'', expand=True)\n",
    "df[1] = df[1].str.strip(']')\n",
    "df[1] = df[1].str.strip('\\'')\n",
    "\n",
    "# разделеине 2-х дат на различные столбцы для получения разницы\n",
    "df = df[1].str.split('\\', \\'', expand=True)\n",
    "df[0].fillna(0, inplace=True)\n",
    "df[1].fillna(0, inplace=True)\n",
    "\n",
    "df[0] = pd.to_datetime(df[0])\n",
    "df[1] = pd.to_datetime(df[1])\n",
    "data['count_day_reviews'] = df[0] - df[1]\n",
    "\n",
    "date_today = datetime.strptime('2020-09-20', '%Y-%m-%d')\n",
    "data['count_day_reviews_today'] = date_today - df[0]"
   ]
  },
  {
   "cell_type": "code",
   "execution_count": 9,
   "metadata": {},
   "outputs": [],
   "source": [
    "# конвертируем datetime в int для модели обучения\n",
    "data['count_day_reviews'] = data['count_day_reviews'] / pd.to_timedelta('1D')\n",
    "data['count_day_reviews_today'] = data['count_day_reviews_today'] / \\\n",
    "    pd.to_timedelta('1D')"
   ]
  },
  {
   "cell_type": "code",
   "execution_count": 10,
   "metadata": {},
   "outputs": [],
   "source": [
    "# добавление признака города заменой значения из словаря на количественное\n",
    "city = {}  # создаём пустой словарь для хранения информации о городе\n",
    "i = 1\n",
    "\n",
    "for letter in data['City']:\n",
    "    city[letter] = 0\n",
    "for letter in city:\n",
    "    city[letter] = i\n",
    "    i += 1\n",
    "\n",
    "data['city_dict'] = data['City'].apply(lambda x: city[x] if x in city else None)"
   ]
  },
  {
   "cell_type": "code",
   "execution_count": 11,
   "metadata": {},
   "outputs": [],
   "source": [
    "# добавление признака столицы\n",
    "data['city_country'] = data['City'].apply(\n",
    "    lambda x: city_info[x]['country'] if x in city else None)\n",
    "\n",
    "country = {}  # создаём пустой словарь для хранения информации о городе\n",
    "i = 1\n",
    "\n",
    "for letter in data['city_country']:\n",
    "    country[letter] = 0\n",
    "for letter in country:\n",
    "    country[letter] = i\n",
    "    i += 1\n",
    "\n",
    "data['city_country'] = data['city_country'].apply(lambda x: country[x] if x in country else None)"
   ]
  },
  {
   "cell_type": "code",
   "execution_count": 12,
   "metadata": {},
   "outputs": [],
   "source": [
    "# добавление признака количества населения города\n",
    "data['population_city'] = data['City'].apply(lambda x: city_info[x]['population'] if x in city else None)"
   ]
  },
  {
   "cell_type": "code",
   "execution_count": 13,
   "metadata": {},
   "outputs": [],
   "source": [
    "# добавление признака количества солнечных дней города\n",
    "data['sunshine_hour_city'] = data['City'].apply(lambda x: city_info[x]['sunshine_hour'] if x in city else None)"
   ]
  },
  {
   "cell_type": "code",
   "execution_count": 14,
   "metadata": {},
   "outputs": [],
   "source": [
    "# добавление признака столицы города (0- не столица/ 1- столица)\n",
    "data['capital'] = data['City'].apply(lambda x: city_info[x]['capital'] if x in city else None)"
   ]
  },
  {
   "cell_type": "code",
   "execution_count": 15,
   "metadata": {},
   "outputs": [],
   "source": [
    "# добавление признака количества кухонь ресторана\n",
    "data['Cuisine Style'] = data['Cuisine Style'].fillna('Other')\n",
    "data['count_cuisine_style'] = data['Cuisine Style'].str.count(',') + 1"
   ]
  },
  {
   "cell_type": "code",
   "execution_count": 16,
   "metadata": {},
   "outputs": [],
   "source": [
    "# используем dummy variables для создания признака по кухням ресторанов\n",
    "df['cuisine_style'] = data['Cuisine Style'].str.strip('[]')\n",
    "df['cuisine_style'] = df['cuisine_style'].str.strip('\\'\\'')\n",
    "\n",
    "# создание справочника с наименованиями кухонь и количеством повторений в ресторанах для выбора\n",
    "df['cuisine_style'] = df['cuisine_style'].fillna('Other')\n",
    "cuisine_style = {}\n",
    "for letter in df['cuisine_style']:\n",
    "    cuisine = letter.split('\\', \\'')\n",
    "    for let in cuisine:\n",
    "        if let in cuisine_style.keys():\n",
    "            cuisine_style[let] += 1\n",
    "        else:\n",
    "            cuisine_style[let] = 1           \n",
    "\n",
    "cuisine = list(cuisine_style.values())\n",
    "sorted_cuisine = sorted(cuisine_style.items(), key=operator.itemgetter(1))\n",
    "\n",
    "cuisine = ['Mediterranean', 'Italian']\n",
    "def find_item(cell):\n",
    "    if item in cell:\n",
    "        return 1\n",
    "    return 0\n",
    "\n",
    "\n",
    "for item in cuisine:\n",
    "    data[item] = data['Cuisine Style'].apply(find_item)"
   ]
  },
  {
   "cell_type": "code",
   "execution_count": 17,
   "metadata": {},
   "outputs": [
    {
     "data": {
      "text/plain": [
       "<matplotlib.axes._subplots.AxesSubplot at 0x19dfaa20148>"
      ]
     },
     "execution_count": 17,
     "metadata": {},
     "output_type": "execute_result"
    },
    {
     "data": {
      "image/png": "[encoded data removed]",
      "text/plain": [
       "<Figure size 432x288 with 2 Axes>"
      ]
     },
     "metadata": {
      "needs_background": "light"
     },
     "output_type": "display_data"
    }
   ],
   "source": [
    "# построим тепловую карту для оценки корреляции между новыми признаками по кухням ресторана (ранее признаков было больше, карта более показательна)\n",
    "new_df = data[['Mediterranean', 'Italian']]\n",
    "correlation = new_df.corr()\n",
    "sns.heatmap(correlation,annot = True, cmap = 'coolwarm')"
   ]
  },
  {
   "cell_type": "code",
   "execution_count": 18,
   "metadata": {},
   "outputs": [],
   "source": [
    "# добавление признака диапазон цен в ресторане из словаря на количественное значение\n",
    "price_range = {'$': 1, '$$ - $$$': 2, '$$$$': 3}\n",
    "\n",
    "data['price_range'] = data['Price Range'].apply(lambda x: price_range[x] if x in price_range else None)\n",
    "\n",
    "# так как большинство ресторанов имеют средний диапазон цен, заменим пусвтые значения на соотв. значение\n",
    "data['price_range'] = data['price_range'].fillna(2)"
   ]
  },
  {
   "cell_type": "code",
   "execution_count": 19,
   "metadata": {},
   "outputs": [],
   "source": [
    "# признак средней заработной платы в городе\n",
    "data['salary_city'] = data['City'].apply(lambda x: city_info[x]['salary'] if x in city else None)"
   ]
  },
  {
   "cell_type": "code",
   "execution_count": 20,
   "metadata": {},
   "outputs": [],
   "source": [
    "# заполним пропущенные значения (None или NaN) средним арифметическим) для всего столбца\n",
    "data['count_day_reviews'] = data['count_day_reviews'].fillna(data['count_day_reviews'].mean())\n",
    "data['count_day_reviews_today'] = data['count_day_reviews_today'].fillna(data['count_day_reviews_today'].mean())"
   ]
  },
  {
   "cell_type": "markdown",
   "metadata": {},
   "source": [
    "### Посмотрим распределение признака"
   ]
  },
  {
   "cell_type": "code",
   "execution_count": 21,
   "metadata": {},
   "outputs": [
    {
     "data": {
      "text/plain": [
       "<matplotlib.axes._subplots.AxesSubplot at 0x19dfa95cb88>"
      ]
     },
     "execution_count": 21,
     "metadata": {},
     "output_type": "execute_result"
    },
    {
     "data": {
      "image/png": "[encoded data removed]",
      "text/plain": [
       "<Figure size 720x504 with 1 Axes>"
      ]
     },
     "metadata": {
      "needs_background": "light"
     },
     "output_type": "display_data"
    }
   ],
   "source": [
    "plt.rcParams['figure.figsize'] = (10,7)\n",
    "data['Ranking'].hist(bins=100)"
   ]
  },
  {
   "cell_type": "code",
   "execution_count": 22,
   "metadata": {},
   "outputs": [],
   "source": [
    "# большинство ресторанов имеет не высокий рейтинг"
   ]
  },
  {
   "cell_type": "code",
   "execution_count": 23,
   "metadata": {},
   "outputs": [
    {
     "data": {
      "text/plain": [
       "<matplotlib.axes._subplots.AxesSubplot at 0x19dfa775508>"
      ]
     },
     "execution_count": 23,
     "metadata": {},
     "output_type": "execute_result"
    },
    {
     "data": {
      "image/png": "[encoded data removed]",
      "text/plain": [
       "<Figure size 720x504 with 1 Axes>"
      ]
     },
     "metadata": {
      "needs_background": "light"
     },
     "output_type": "display_data"
    }
   ],
   "source": [
    "data['City'].value_counts(ascending=True).plot(kind='barh')"
   ]
  },
  {
   "cell_type": "markdown",
   "metadata": {},
   "source": [
    "большинство ресторанов находится в Лондоне"
   ]
  },
  {
   "cell_type": "code",
   "execution_count": 24,
   "metadata": {},
   "outputs": [
    {
     "data": {
      "text/plain": [
       "<matplotlib.axes._subplots.AxesSubplot at 0x19dfb6fb9c8>"
      ]
     },
     "execution_count": 24,
     "metadata": {},
     "output_type": "execute_result"
    },
    {
     "data": {
      "image/png": "[encoded data removed]",
      "text/plain": [
       "<Figure size 720x504 with 1 Axes>"
      ]
     },
     "metadata": {
      "needs_background": "light"
     },
     "output_type": "display_data"
    }
   ],
   "source": [
    "data['Rating'].value_counts(ascending=True).plot(kind='barh')"
   ]
  },
  {
   "cell_type": "markdown",
   "metadata": {},
   "source": [
    "большинство ресторанов имеют оценку 4"
   ]
  },
  {
   "cell_type": "code",
   "execution_count": 25,
   "metadata": {},
   "outputs": [],
   "source": [
    "# после добавления признаков удаляем столбцы, содержащие данные типа object\n",
    "data = data.drop(data.select_dtypes(include=['object']), axis=1)"
   ]
  },
  {
   "cell_type": "code",
   "execution_count": 26,
   "metadata": {},
   "outputs": [
    {
     "name": "stdout",
     "output_type": "stream",
     "text": [
      "<class 'pandas.core.frame.DataFrame'>\n",
      "RangeIndex: 40000 entries, 0 to 39999\n",
      "Data columns (total 19 columns):\n",
      " #   Column                   Non-Null Count  Dtype  \n",
      "---  ------                   --------------  -----  \n",
      " 0   Ranking                  40000 non-null  float64\n",
      " 1   Rating                   40000 non-null  float64\n",
      " 2   Number of Reviews        40000 non-null  float64\n",
      " 3   Number_of_Reviews_isNAN  40000 non-null  uint8  \n",
      " 4   Cuisine_Style_isNAN      40000 non-null  uint8  \n",
      " 5   Price_Range_isNAN        40000 non-null  uint8  \n",
      " 6   count_branch             40000 non-null  int64  \n",
      " 7   count_day_reviews        40000 non-null  float64\n",
      " 8   count_day_reviews_today  40000 non-null  float64\n",
      " 9   city_dict                40000 non-null  int64  \n",
      " 10  city_country             40000 non-null  int64  \n",
      " 11  population_city          40000 non-null  int64  \n",
      " 12  sunshine_hour_city       40000 non-null  int64  \n",
      " 13  capital                  40000 non-null  int64  \n",
      " 14  count_cuisine_style      40000 non-null  int64  \n",
      " 15  Mediterranean            40000 non-null  int64  \n",
      " 16  Italian                  40000 non-null  int64  \n",
      " 17  price_range              40000 non-null  float64\n",
      " 18  salary_city              40000 non-null  float64\n",
      "dtypes: float64(7), int64(9), uint8(3)\n",
      "memory usage: 5.0 MB\n"
     ]
    }
   ],
   "source": [
    "data.info()"
   ]
  },
  {
   "cell_type": "markdown",
   "metadata": {},
   "source": [
    "# Разбиваем датафрейм на части, необходимые для обучения и тестирования модели"
   ]
  },
  {
   "cell_type": "code",
   "execution_count": 27,
   "metadata": {},
   "outputs": [],
   "source": [
    "# Х - данные с информацией о ресторанах, у - целевая переменная (рейтинги ресторанов)\n",
    "X = data.drop(['Rating'], axis = 1)\n",
    "y = data['Rating']"
   ]
  },
  {
   "cell_type": "code",
   "execution_count": 28,
   "metadata": {},
   "outputs": [],
   "source": [
    "# Загружаем специальный инструмент для разбивки:\n",
    "from sklearn.model_selection import train_test_split"
   ]
  },
  {
   "cell_type": "code",
   "execution_count": 29,
   "metadata": {},
   "outputs": [],
   "source": [
    "# Наборы данных с меткой \"train\" будут использоваться для обучения модели, \"test\" - для тестирования.\n",
    "# Для тестирования мы будем использовать 25% от исходного датасета.\n",
    "X_train, X_test, y_train, y_test = train_test_split(X, y, test_size=0.25)"
   ]
  },
  {
   "cell_type": "markdown",
   "metadata": {},
   "source": [
    "# Создаём, обучаем и тестируем модель"
   ]
  },
  {
   "cell_type": "code",
   "execution_count": 30,
   "metadata": {},
   "outputs": [],
   "source": [
    "# Импортируем необходимые библиотеки:\n",
    "from sklearn.ensemble import RandomForestRegressor # инструмент для создания и обучения модели\n",
    "from sklearn import metrics # инструменты для оценки точности модели"
   ]
  },
  {
   "cell_type": "code",
   "execution_count": 31,
   "metadata": {},
   "outputs": [],
   "source": [
    "# Создаём модель\n",
    "regr = RandomForestRegressor(n_estimators=100)\n",
    "\n",
    "# Обучаем модель на тестовом наборе данных\n",
    "regr.fit(X_train, y_train)\n",
    "\n",
    "# Используем обученную модель для предсказания рейтинга ресторанов в тестовой выборке.\n",
    "# Предсказанные значения записываем в переменную y_pred\n",
    "y_pred = regr.predict(X_test)"
   ]
  },
  {
   "cell_type": "code",
   "execution_count": 32,
   "metadata": {},
   "outputs": [
    {
     "name": "stdout",
     "output_type": "stream",
     "text": [
      "MAE: 0.2074935\n"
     ]
    }
   ],
   "source": [
    "# Сравниваем предсказанные значения (y_pred) с реальными (y_test), и смотрим насколько они в среднем отличаются\n",
    "# Метрика называется Mean Absolute Error (MAE) и показывает среднее отклонение предсказанных значений от фактических.\n",
    "print('MAE:', metrics.mean_absolute_error(y_test, y_pred))"
   ]
  },
  {
   "cell_type": "markdown",
   "metadata": {},
   "source": [
    "Метрика Mean Absolute Error (MAE) имеет среднее отклонение предсказанных значений от фактических = 0.2074935"
   ]
  },
  {
   "cell_type": "code",
   "execution_count": null,
   "metadata": {},
   "outputs": [],
   "source": []
  }
 ],
 "metadata": {
  "kernelspec": {
   "display_name": "Python 3",
   "language": "python",
   "name": "python3"
  },
  "language_info": {
   "codemirror_mode": {
    "name": "ipython",
    "version": 3
   },
   "file_extension": ".py",
   "mimetype": "text/x-python",
   "name": "python",
   "nbconvert_exporter": "python",
   "pygments_lexer": "ipython3",
   "version": "3.7.6"
  }
 },
 "nbformat": 4,
 "nbformat_minor": 2
}
