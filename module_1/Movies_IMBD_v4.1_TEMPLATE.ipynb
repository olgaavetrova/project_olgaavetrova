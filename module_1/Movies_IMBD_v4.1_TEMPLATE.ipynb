{
 "cells": [
  {
   "cell_type": "code",
   "execution_count": 84,
   "metadata": {
    "_cell_guid": "b1076dfc-b9ad-4769-8c92-a6c4dae69d19",
    "_uuid": "8f2839f25d086af736a60e9eeb907d3b93b6e0e5",
    "colab": {},
    "colab_type": "code",
    "id": "U2D2gTdJVp90"
   },
   "outputs": [],
   "source": [
    "import numpy as np\n",
    "import pandas as pd\n",
    "import seaborn as sns\n",
    "import matplotlib.pyplot as plt\n",
    "from collections import Counter\n",
    "from itertools import combinations\n",
    "import operator"
   ]
  },
  {
   "cell_type": "code",
   "execution_count": 85,
   "metadata": {
    "_cell_guid": "79c7e3d0-c299-4dcb-8224-4455121ee9b0",
    "_uuid": "d629ff2d2480ee46fbb7e2d37f6b5fab8052498a",
    "colab": {},
    "colab_type": "code",
    "id": "oyGfxL3eVp9-"
   },
   "outputs": [
    {
     "data": {
      "text/html": [
       "<div>\n",
       "<style scoped>\n",
       "    .dataframe tbody tr th:only-of-type {\n",
       "        vertical-align: middle;\n",
       "    }\n",
       "\n",
       "    .dataframe tbody tr th {\n",
       "        vertical-align: top;\n",
       "    }\n",
       "\n",
       "    .dataframe thead th {\n",
       "        text-align: right;\n",
       "    }\n",
       "</style>\n",
       "<table border=\"1\" class=\"dataframe\">\n",
       "  <thead>\n",
       "    <tr style=\"text-align: right;\">\n",
       "      <th></th>\n",
       "      <th>imdb_id</th>\n",
       "      <th>budget</th>\n",
       "      <th>revenue</th>\n",
       "      <th>original_title</th>\n",
       "      <th>cast</th>\n",
       "      <th>director</th>\n",
       "      <th>tagline</th>\n",
       "      <th>overview</th>\n",
       "      <th>runtime</th>\n",
       "      <th>genres</th>\n",
       "      <th>production_companies</th>\n",
       "      <th>release_date</th>\n",
       "      <th>vote_average</th>\n",
       "      <th>release_year</th>\n",
       "    </tr>\n",
       "  </thead>\n",
       "  <tbody>\n",
       "    <tr>\n",
       "      <th>155</th>\n",
       "      <td>tt2980516</td>\n",
       "      <td>15000000</td>\n",
       "      <td>121201940</td>\n",
       "      <td>The Theory of Everything</td>\n",
       "      <td>Eddie Redmayne|Felicity Jones|Harry Lloyd|Davi...</td>\n",
       "      <td>James Marsh</td>\n",
       "      <td>His Mind Changed Our World. Her Love Changed His.</td>\n",
       "      <td>A look at the relationship between the famous ...</td>\n",
       "      <td>123</td>\n",
       "      <td>Drama|Romance</td>\n",
       "      <td>Working Title Films</td>\n",
       "      <td>11/26/2014</td>\n",
       "      <td>7.8</td>\n",
       "      <td>2014</td>\n",
       "    </tr>\n",
       "    <tr>\n",
       "      <th>1648</th>\n",
       "      <td>tt0337579</td>\n",
       "      <td>18000000</td>\n",
       "      <td>65070412</td>\n",
       "      <td>Barbershop 2:  Back in Business</td>\n",
       "      <td>Ice Cube|Cedric the Entertainer|Sean Patrick T...</td>\n",
       "      <td>Kevin Rodney Sullivan</td>\n",
       "      <td>Let your hair down</td>\n",
       "      <td>The continuing adventures of the barbers at Ca...</td>\n",
       "      <td>106</td>\n",
       "      <td>Comedy|Drama</td>\n",
       "      <td>Metro-Goldwyn-Mayer (MGM)</td>\n",
       "      <td>1/20/2004</td>\n",
       "      <td>5.7</td>\n",
       "      <td>2004</td>\n",
       "    </tr>\n",
       "    <tr>\n",
       "      <th>1632</th>\n",
       "      <td>tt0372588</td>\n",
       "      <td>32000000</td>\n",
       "      <td>50907422</td>\n",
       "      <td>Team America: World Police</td>\n",
       "      <td>Trey Parker|Matt Stone|Kristen Miller|Masasa M...</td>\n",
       "      <td>Trey Parker</td>\n",
       "      <td>Putting The 'F' back in 'Freedom'</td>\n",
       "      <td>Team America World Police follows an internati...</td>\n",
       "      <td>98</td>\n",
       "      <td>Music|Adventure|Animation|Action|Comedy</td>\n",
       "      <td>Paramount Pictures|Scott Rudin Productions</td>\n",
       "      <td>10/11/2004</td>\n",
       "      <td>6.5</td>\n",
       "      <td>2004</td>\n",
       "    </tr>\n",
       "    <tr>\n",
       "      <th>1132</th>\n",
       "      <td>tt0349205</td>\n",
       "      <td>40000000</td>\n",
       "      <td>190212113</td>\n",
       "      <td>Cheaper by the Dozen</td>\n",
       "      <td>Steve Martin|Bonnie Hunt|Piper Perabo|Tom Well...</td>\n",
       "      <td>Shawn Levy</td>\n",
       "      <td>Growing pains? They've got twelve of them!</td>\n",
       "      <td>The Baker brood moves to Chicago after patriar...</td>\n",
       "      <td>98</td>\n",
       "      <td>Comedy|Drama|Family</td>\n",
       "      <td>Twentieth Century Fox Film Corporation|Robert ...</td>\n",
       "      <td>12/24/2003</td>\n",
       "      <td>5.8</td>\n",
       "      <td>2003</td>\n",
       "    </tr>\n",
       "    <tr>\n",
       "      <th>1297</th>\n",
       "      <td>tt1905041</td>\n",
       "      <td>160000000</td>\n",
       "      <td>788679850</td>\n",
       "      <td>Fast &amp; Furious 6</td>\n",
       "      <td>Paul Walker|Vin Diesel|Dwayne Johnson|Jordana ...</td>\n",
       "      <td>Justin Lin</td>\n",
       "      <td>All roads lead to this</td>\n",
       "      <td>Hobbs has Dominic and Brian reassemble their c...</td>\n",
       "      <td>130</td>\n",
       "      <td>Action|Thriller|Crime</td>\n",
       "      <td>Universal Pictures|Original Film|One Race Prod...</td>\n",
       "      <td>5/6/2013</td>\n",
       "      <td>6.6</td>\n",
       "      <td>2013</td>\n",
       "    </tr>\n",
       "  </tbody>\n",
       "</table>\n",
       "</div>"
      ],
      "text/plain": [
       "        imdb_id     budget    revenue                   original_title  \\\n",
       "155   tt2980516   15000000  121201940         The Theory of Everything   \n",
       "1648  tt0337579   18000000   65070412  Barbershop 2:  Back in Business   \n",
       "1632  tt0372588   32000000   50907422       Team America: World Police   \n",
       "1132  tt0349205   40000000  190212113             Cheaper by the Dozen   \n",
       "1297  tt1905041  160000000  788679850                 Fast & Furious 6   \n",
       "\n",
       "                                                   cast  \\\n",
       "155   Eddie Redmayne|Felicity Jones|Harry Lloyd|Davi...   \n",
       "1648  Ice Cube|Cedric the Entertainer|Sean Patrick T...   \n",
       "1632  Trey Parker|Matt Stone|Kristen Miller|Masasa M...   \n",
       "1132  Steve Martin|Bonnie Hunt|Piper Perabo|Tom Well...   \n",
       "1297  Paul Walker|Vin Diesel|Dwayne Johnson|Jordana ...   \n",
       "\n",
       "                   director  \\\n",
       "155             James Marsh   \n",
       "1648  Kevin Rodney Sullivan   \n",
       "1632            Trey Parker   \n",
       "1132             Shawn Levy   \n",
       "1297             Justin Lin   \n",
       "\n",
       "                                                tagline  \\\n",
       "155   His Mind Changed Our World. Her Love Changed His.   \n",
       "1648                                 Let your hair down   \n",
       "1632                  Putting The 'F' back in 'Freedom'   \n",
       "1132         Growing pains? They've got twelve of them!   \n",
       "1297                             All roads lead to this   \n",
       "\n",
       "                                               overview  runtime  \\\n",
       "155   A look at the relationship between the famous ...      123   \n",
       "1648  The continuing adventures of the barbers at Ca...      106   \n",
       "1632  Team America World Police follows an internati...       98   \n",
       "1132  The Baker brood moves to Chicago after patriar...       98   \n",
       "1297  Hobbs has Dominic and Brian reassemble their c...      130   \n",
       "\n",
       "                                       genres  \\\n",
       "155                             Drama|Romance   \n",
       "1648                             Comedy|Drama   \n",
       "1632  Music|Adventure|Animation|Action|Comedy   \n",
       "1132                      Comedy|Drama|Family   \n",
       "1297                    Action|Thriller|Crime   \n",
       "\n",
       "                                   production_companies release_date  \\\n",
       "155                                 Working Title Films   11/26/2014   \n",
       "1648                          Metro-Goldwyn-Mayer (MGM)    1/20/2004   \n",
       "1632         Paramount Pictures|Scott Rudin Productions   10/11/2004   \n",
       "1132  Twentieth Century Fox Film Corporation|Robert ...   12/24/2003   \n",
       "1297  Universal Pictures|Original Film|One Race Prod...     5/6/2013   \n",
       "\n",
       "      vote_average  release_year  \n",
       "155            7.8          2014  \n",
       "1648           5.7          2004  \n",
       "1632           6.5          2004  \n",
       "1132           5.8          2003  \n",
       "1297           6.6          2013  "
      ]
     },
     "execution_count": 85,
     "metadata": {},
     "output_type": "execute_result"
    }
   ],
   "source": [
    "data = pd.read_csv('movie_bd_v5.csv')\n",
    "data.sample(5)"
   ]
  },
  {
   "cell_type": "code",
   "execution_count": 86,
   "metadata": {
    "colab": {},
    "colab_type": "code",
    "id": "CoYUnagMVp-C"
   },
   "outputs": [
    {
     "data": {
      "text/html": [
       "<div>\n",
       "<style scoped>\n",
       "    .dataframe tbody tr th:only-of-type {\n",
       "        vertical-align: middle;\n",
       "    }\n",
       "\n",
       "    .dataframe tbody tr th {\n",
       "        vertical-align: top;\n",
       "    }\n",
       "\n",
       "    .dataframe thead th {\n",
       "        text-align: right;\n",
       "    }\n",
       "</style>\n",
       "<table border=\"1\" class=\"dataframe\">\n",
       "  <thead>\n",
       "    <tr style=\"text-align: right;\">\n",
       "      <th></th>\n",
       "      <th>budget</th>\n",
       "      <th>revenue</th>\n",
       "      <th>runtime</th>\n",
       "      <th>vote_average</th>\n",
       "      <th>release_year</th>\n",
       "    </tr>\n",
       "  </thead>\n",
       "  <tbody>\n",
       "    <tr>\n",
       "      <th>count</th>\n",
       "      <td>1.889000e+03</td>\n",
       "      <td>1.889000e+03</td>\n",
       "      <td>1889.000000</td>\n",
       "      <td>1889.000000</td>\n",
       "      <td>1889.000000</td>\n",
       "    </tr>\n",
       "    <tr>\n",
       "      <th>mean</th>\n",
       "      <td>5.431083e+07</td>\n",
       "      <td>1.553653e+08</td>\n",
       "      <td>109.658549</td>\n",
       "      <td>6.140762</td>\n",
       "      <td>2007.860773</td>\n",
       "    </tr>\n",
       "    <tr>\n",
       "      <th>std</th>\n",
       "      <td>4.858721e+07</td>\n",
       "      <td>2.146698e+08</td>\n",
       "      <td>18.017041</td>\n",
       "      <td>0.764763</td>\n",
       "      <td>4.468841</td>\n",
       "    </tr>\n",
       "    <tr>\n",
       "      <th>min</th>\n",
       "      <td>5.000000e+06</td>\n",
       "      <td>2.033165e+06</td>\n",
       "      <td>63.000000</td>\n",
       "      <td>3.300000</td>\n",
       "      <td>2000.000000</td>\n",
       "    </tr>\n",
       "    <tr>\n",
       "      <th>25%</th>\n",
       "      <td>2.000000e+07</td>\n",
       "      <td>3.456058e+07</td>\n",
       "      <td>97.000000</td>\n",
       "      <td>5.600000</td>\n",
       "      <td>2004.000000</td>\n",
       "    </tr>\n",
       "    <tr>\n",
       "      <th>50%</th>\n",
       "      <td>3.800000e+07</td>\n",
       "      <td>8.361541e+07</td>\n",
       "      <td>107.000000</td>\n",
       "      <td>6.100000</td>\n",
       "      <td>2008.000000</td>\n",
       "    </tr>\n",
       "    <tr>\n",
       "      <th>75%</th>\n",
       "      <td>7.200000e+07</td>\n",
       "      <td>1.782626e+08</td>\n",
       "      <td>120.000000</td>\n",
       "      <td>6.600000</td>\n",
       "      <td>2012.000000</td>\n",
       "    </tr>\n",
       "    <tr>\n",
       "      <th>max</th>\n",
       "      <td>3.800000e+08</td>\n",
       "      <td>2.781506e+09</td>\n",
       "      <td>214.000000</td>\n",
       "      <td>8.100000</td>\n",
       "      <td>2015.000000</td>\n",
       "    </tr>\n",
       "  </tbody>\n",
       "</table>\n",
       "</div>"
      ],
      "text/plain": [
       "             budget       revenue      runtime  vote_average  release_year\n",
       "count  1.889000e+03  1.889000e+03  1889.000000   1889.000000   1889.000000\n",
       "mean   5.431083e+07  1.553653e+08   109.658549      6.140762   2007.860773\n",
       "std    4.858721e+07  2.146698e+08    18.017041      0.764763      4.468841\n",
       "min    5.000000e+06  2.033165e+06    63.000000      3.300000   2000.000000\n",
       "25%    2.000000e+07  3.456058e+07    97.000000      5.600000   2004.000000\n",
       "50%    3.800000e+07  8.361541e+07   107.000000      6.100000   2008.000000\n",
       "75%    7.200000e+07  1.782626e+08   120.000000      6.600000   2012.000000\n",
       "max    3.800000e+08  2.781506e+09   214.000000      8.100000   2015.000000"
      ]
     },
     "execution_count": 86,
     "metadata": {},
     "output_type": "execute_result"
    }
   ],
   "source": [
    "data.describe()"
   ]
  },
  {
   "cell_type": "markdown",
   "metadata": {
    "colab_type": "text",
    "id": "DTIt7ezGVp-G"
   },
   "source": [
    "# Предобработка"
   ]
  },
  {
   "cell_type": "code",
   "execution_count": 87,
   "metadata": {
    "colab": {},
    "colab_type": "code",
    "id": "jNb40DwKVp-H"
   },
   "outputs": [],
   "source": [
    "answers = {} # создадим словарь для ответов\n",
    "\n",
    "# тут другие ваши предобработки колонок например:\n",
    "\n",
    "data['profit'] = data['revenue'] - data['budget'] # Расчет прибыли фильма\n",
    "\n",
    "#Формирование DataFrame с разбиением по определенным столбцам\n",
    "\n",
    "data_split_genres = (data.set_index(data.columns.drop('genres',1).tolist()).genres.str.split('|', expand=True).stack()\n",
    "                     .reset_index().rename(columns={0:'genres'}).loc[:, data.columns])\n",
    "\n",
    "data_split_genres_director = (data_split_genres.set_index(data_split_genres.columns.drop('director',1).tolist())\n",
    "                              .director.str.split('|', expand=True).stack().reset_index().rename(columns={0:'director'})\n",
    "                              .loc[:, data.columns])\n",
    "\n",
    "data_split_director = (data.set_index(data.columns.drop('director',1).tolist()).director.str.split('|', expand=True).stack()\n",
    "                     .reset_index().rename(columns={0:'director'}).loc[:, data.columns])\n",
    "\n",
    "data_split_cast = (data.set_index(data.columns.drop('cast',1).tolist()).cast.str.split('|', expand=True).stack()\n",
    "                   .reset_index().rename(columns={0:'cast'}).loc[:, data.columns])\n",
    "\n",
    "data_split_companies = (data.set_index(data.columns.drop('production_companies',1).tolist())\n",
    "                        .production_companies.str.split('|', expand=True).stack()\n",
    "                        .reset_index().rename(columns={0:'production_companies'}).loc[:, data.columns])\n",
    "\n",
    "\n",
    "# Разбиение колонки с датой формата ММ.ДД.ГГГГ на неколько колонок, объединение нескольких DataFrame\n",
    "release = data.release_date.str.split('/',expand=True)\n",
    "release.columns  = ['month', 'day', 'year']\n",
    "data_full = pd.concat([data,release],axis=1)\n",
    "\n",
    "# Функция изменения месяца на наименование сезона \n",
    "def func(x):\n",
    "    seasons = {'Зима': (1, 2, 12),\n",
    "           'Весна': (3, 4, 5),\n",
    "           'Лето': (6, 7, 8),\n",
    "           'Осень': (9, 10, 11)}\n",
    "    for key in seasons.keys():\n",
    "        if int(x) in seasons[key]:\n",
    "            return key\n",
    "\n",
    "#So we need to change this in datetime format\n",
    "# ..."
   ]
  },
  {
   "cell_type": "markdown",
   "metadata": {
    "colab_type": "text",
    "id": "YxZaH-nPVp-L"
   },
   "source": [
    "# 1. У какого фильма из списка самый большой бюджет?"
   ]
  },
  {
   "cell_type": "markdown",
   "metadata": {
    "colab_type": "text",
    "id": "Nd-G5gX6Vp-M"
   },
   "source": [
    "Использовать варианты ответов в коде решения запрещено.    \n",
    "Вы думаете и в жизни у вас будут варианты ответов?)"
   ]
  },
  {
   "cell_type": "code",
   "execution_count": 88,
   "metadata": {
    "colab": {},
    "colab_type": "code",
    "id": "uVnXAY5RVp-O"
   },
   "outputs": [],
   "source": [
    "answers['1'] = '3. Pirates of the Caribbean: On Stranger Tides (tt1298650)'\n",
    "# +"
   ]
  },
  {
   "cell_type": "code",
   "execution_count": 89,
   "metadata": {},
   "outputs": [
    {
     "data": {
      "text/html": [
       "<div>\n",
       "<style scoped>\n",
       "    .dataframe tbody tr th:only-of-type {\n",
       "        vertical-align: middle;\n",
       "    }\n",
       "\n",
       "    .dataframe tbody tr th {\n",
       "        vertical-align: top;\n",
       "    }\n",
       "\n",
       "    .dataframe thead th {\n",
       "        text-align: right;\n",
       "    }\n",
       "</style>\n",
       "<table border=\"1\" class=\"dataframe\">\n",
       "  <thead>\n",
       "    <tr style=\"text-align: right;\">\n",
       "      <th></th>\n",
       "      <th>budget</th>\n",
       "      <th>imdb_id</th>\n",
       "      <th>original_title</th>\n",
       "    </tr>\n",
       "  </thead>\n",
       "  <tbody>\n",
       "    <tr>\n",
       "      <th>723</th>\n",
       "      <td>380000000</td>\n",
       "      <td>tt1298650</td>\n",
       "      <td>Pirates of the Caribbean: On Stranger Tides</td>\n",
       "    </tr>\n",
       "  </tbody>\n",
       "</table>\n",
       "</div>"
      ],
      "text/plain": [
       "        budget    imdb_id                               original_title\n",
       "723  380000000  tt1298650  Pirates of the Caribbean: On Stranger Tides"
      ]
     },
     "execution_count": 89,
     "metadata": {},
     "output_type": "execute_result"
    }
   ],
   "source": [
    "data.loc[data['budget'] == data.budget.max()][['budget','imdb_id','original_title']]"
   ]
  },
  {
   "cell_type": "markdown",
   "metadata": {
    "colab_type": "text",
    "id": "K7L3nbRXVp-X"
   },
   "source": [
    "ВАРИАНТ 2"
   ]
  },
  {
   "cell_type": "code",
   "execution_count": 90,
   "metadata": {
    "colab": {},
    "colab_type": "code",
    "id": "OGaoQI7rVp-X"
   },
   "outputs": [
    {
     "data": {
      "text/plain": [
       "'Pirates of the Caribbean: On Stranger Tides (tt1298650)'"
      ]
     },
     "execution_count": 90,
     "metadata": {},
     "output_type": "execute_result"
    }
   ],
   "source": [
    "str(data['original_title'][data['budget'].idxmax()])+ \" (\" + str(data['imdb_id'][data['budget'].idxmax()]) + \")\""
   ]
  },
  {
   "cell_type": "markdown",
   "metadata": {
    "colab_type": "text",
    "id": "FNRbbI3vVp-c"
   },
   "source": [
    "# 2. Какой из фильмов самый длительный (в минутах)?"
   ]
  },
  {
   "cell_type": "code",
   "execution_count": 91,
   "metadata": {
    "colab": {},
    "colab_type": "code",
    "id": "vHAoEXNTVp-d"
   },
   "outputs": [],
   "source": [
    "answers['2'] = '2. Gods and Generals (tt0279111)'\n",
    "# +"
   ]
  },
  {
   "cell_type": "code",
   "execution_count": 92,
   "metadata": {},
   "outputs": [
    {
     "data": {
      "text/html": [
       "<div>\n",
       "<style scoped>\n",
       "    .dataframe tbody tr th:only-of-type {\n",
       "        vertical-align: middle;\n",
       "    }\n",
       "\n",
       "    .dataframe tbody tr th {\n",
       "        vertical-align: top;\n",
       "    }\n",
       "\n",
       "    .dataframe thead th {\n",
       "        text-align: right;\n",
       "    }\n",
       "</style>\n",
       "<table border=\"1\" class=\"dataframe\">\n",
       "  <thead>\n",
       "    <tr style=\"text-align: right;\">\n",
       "      <th></th>\n",
       "      <th>runtime</th>\n",
       "      <th>imdb_id</th>\n",
       "      <th>original_title</th>\n",
       "    </tr>\n",
       "  </thead>\n",
       "  <tbody>\n",
       "    <tr>\n",
       "      <th>1157</th>\n",
       "      <td>214</td>\n",
       "      <td>tt0279111</td>\n",
       "      <td>Gods and Generals</td>\n",
       "    </tr>\n",
       "  </tbody>\n",
       "</table>\n",
       "</div>"
      ],
      "text/plain": [
       "      runtime    imdb_id     original_title\n",
       "1157      214  tt0279111  Gods and Generals"
      ]
     },
     "execution_count": 92,
     "metadata": {},
     "output_type": "execute_result"
    }
   ],
   "source": [
    "data.loc[data['runtime'] == data.runtime.max()][['runtime','imdb_id','original_title']]"
   ]
  },
  {
   "cell_type": "markdown",
   "metadata": {},
   "source": [
    "ВАРИАНТ 2"
   ]
  },
  {
   "cell_type": "code",
   "execution_count": 93,
   "metadata": {
    "colab": {},
    "colab_type": "code",
    "id": "ot-VX2XrVp-g",
    "scrolled": true
   },
   "outputs": [
    {
     "data": {
      "text/plain": [
       "imdb_id                                                         tt0279111\n",
       "budget                                                           56000000\n",
       "revenue                                                          12923936\n",
       "original_title                                          Gods and Generals\n",
       "cast                    Stephen Lang|Jeff Daniels|Robert Duvall|Kevin ...\n",
       "director                                                Ronald F. Maxwell\n",
       "tagline                               The nations heart was touched by...\n",
       "overview                The film centers mostly around the personal an...\n",
       "runtime                                                               214\n",
       "genres                                                  Drama|History|War\n",
       "production_companies                   Turner Pictures|Antietam Filmworks\n",
       "release_date                                                    2/21/2003\n",
       "vote_average                                                          5.8\n",
       "release_year                                                         2003\n",
       "profit                                                          -43076064\n",
       "Name: 1157, dtype: object"
      ]
     },
     "execution_count": 93,
     "metadata": {},
     "output_type": "execute_result"
    }
   ],
   "source": [
    "data.loc[data['runtime'].idxmax()]"
   ]
  },
  {
   "cell_type": "markdown",
   "metadata": {
    "colab_type": "text",
    "id": "bapLlpW8Vp-k"
   },
   "source": [
    "# 3. Какой из фильмов самый короткий (в минутах)?\n",
    "\n",
    "\n",
    "\n"
   ]
  },
  {
   "cell_type": "code",
   "execution_count": 94,
   "metadata": {
    "colab": {},
    "colab_type": "code",
    "id": "YBxaSHuAVp-l"
   },
   "outputs": [],
   "source": [
    "answers['3'] = '3. Winnie the Pooh (tt1449283)'\n",
    "# +"
   ]
  },
  {
   "cell_type": "code",
   "execution_count": 95,
   "metadata": {},
   "outputs": [
    {
     "data": {
      "text/html": [
       "<div>\n",
       "<style scoped>\n",
       "    .dataframe tbody tr th:only-of-type {\n",
       "        vertical-align: middle;\n",
       "    }\n",
       "\n",
       "    .dataframe tbody tr th {\n",
       "        vertical-align: top;\n",
       "    }\n",
       "\n",
       "    .dataframe thead th {\n",
       "        text-align: right;\n",
       "    }\n",
       "</style>\n",
       "<table border=\"1\" class=\"dataframe\">\n",
       "  <thead>\n",
       "    <tr style=\"text-align: right;\">\n",
       "      <th></th>\n",
       "      <th>runtime</th>\n",
       "      <th>imdb_id</th>\n",
       "      <th>original_title</th>\n",
       "    </tr>\n",
       "  </thead>\n",
       "  <tbody>\n",
       "    <tr>\n",
       "      <th>768</th>\n",
       "      <td>63</td>\n",
       "      <td>tt1449283</td>\n",
       "      <td>Winnie the Pooh</td>\n",
       "    </tr>\n",
       "  </tbody>\n",
       "</table>\n",
       "</div>"
      ],
      "text/plain": [
       "     runtime    imdb_id   original_title\n",
       "768       63  tt1449283  Winnie the Pooh"
      ]
     },
     "execution_count": 95,
     "metadata": {},
     "output_type": "execute_result"
    }
   ],
   "source": [
    "data.loc[data['runtime'] == data.runtime.min()][['runtime','imdb_id','original_title']]"
   ]
  },
  {
   "cell_type": "markdown",
   "metadata": {
    "colab_type": "text",
    "id": "TfQbxbfNVp-p"
   },
   "source": [
    "# 4. Какова средняя длительность фильмов?\n"
   ]
  },
  {
   "cell_type": "code",
   "execution_count": 96,
   "metadata": {},
   "outputs": [],
   "source": [
    "answers['4'] = '2. 110'\n",
    "# +"
   ]
  },
  {
   "cell_type": "code",
   "execution_count": 97,
   "metadata": {
    "colab": {},
    "colab_type": "code",
    "id": "5K6dKZYVVp-q"
   },
   "outputs": [
    {
     "name": "stdout",
     "output_type": "stream",
     "text": [
      "Cредняя длительность фильмов  110\n"
     ]
    }
   ],
   "source": [
    "print('Cредняя длительность фильмов ', round(data.runtime.mean()))"
   ]
  },
  {
   "cell_type": "markdown",
   "metadata": {
    "colab_type": "text",
    "id": "r5TvbnT_Vp-u"
   },
   "source": [
    "# 5. Каково медианное значение длительности фильмов? "
   ]
  },
  {
   "cell_type": "code",
   "execution_count": 98,
   "metadata": {
    "colab": {},
    "colab_type": "code",
    "id": "iBROplKnVp-v"
   },
   "outputs": [],
   "source": [
    "answers['5'] = '1. 107'\n",
    "# +"
   ]
  },
  {
   "cell_type": "code",
   "execution_count": 99,
   "metadata": {},
   "outputs": [
    {
     "name": "stdout",
     "output_type": "stream",
     "text": [
      "Медианное значение длительности фильмов  107\n"
     ]
    }
   ],
   "source": [
    "print('Медианное значение длительности фильмов ', round(data.runtime.median()))"
   ]
  },
  {
   "cell_type": "markdown",
   "metadata": {
    "colab_type": "text",
    "id": "39P-deDSVp-y"
   },
   "source": [
    "# 6. Какой самый прибыльный фильм?\n",
    "#### Внимание! Здесь и далее под «прибылью» или «убытками» понимается разность между сборами и бюджетом фильма. (прибыль = сборы - бюджет) в нашем датасете это будет (profit = revenue - budget) "
   ]
  },
  {
   "cell_type": "code",
   "execution_count": 100,
   "metadata": {
    "colab": {},
    "colab_type": "code",
    "id": "UYZh4T9WVp-y"
   },
   "outputs": [],
   "source": [
    "answers['6'] = '5. Avatar (tt0499549)'\n",
    "# +"
   ]
  },
  {
   "cell_type": "code",
   "execution_count": 101,
   "metadata": {},
   "outputs": [
    {
     "data": {
      "text/html": [
       "<div>\n",
       "<style scoped>\n",
       "    .dataframe tbody tr th:only-of-type {\n",
       "        vertical-align: middle;\n",
       "    }\n",
       "\n",
       "    .dataframe tbody tr th {\n",
       "        vertical-align: top;\n",
       "    }\n",
       "\n",
       "    .dataframe thead th {\n",
       "        text-align: right;\n",
       "    }\n",
       "</style>\n",
       "<table border=\"1\" class=\"dataframe\">\n",
       "  <thead>\n",
       "    <tr style=\"text-align: right;\">\n",
       "      <th></th>\n",
       "      <th>profit</th>\n",
       "      <th>original_title</th>\n",
       "      <th>imdb_id</th>\n",
       "    </tr>\n",
       "  </thead>\n",
       "  <tbody>\n",
       "    <tr>\n",
       "      <th>239</th>\n",
       "      <td>2544505847</td>\n",
       "      <td>Avatar</td>\n",
       "      <td>tt0499549</td>\n",
       "    </tr>\n",
       "  </tbody>\n",
       "</table>\n",
       "</div>"
      ],
      "text/plain": [
       "         profit original_title    imdb_id\n",
       "239  2544505847         Avatar  tt0499549"
      ]
     },
     "execution_count": 101,
     "metadata": {},
     "output_type": "execute_result"
    }
   ],
   "source": [
    "data.loc[data['profit'] == data.profit.max()][['profit','original_title', 'imdb_id']]"
   ]
  },
  {
   "cell_type": "markdown",
   "metadata": {
    "colab_type": "text",
    "id": "M99JmIX4Vp-2"
   },
   "source": [
    "# 7. Какой фильм самый убыточный? "
   ]
  },
  {
   "cell_type": "code",
   "execution_count": 102,
   "metadata": {},
   "outputs": [],
   "source": [
    "answers['7'] = '5. The Lone Ranger (tt1210819)'\n",
    "# +"
   ]
  },
  {
   "cell_type": "code",
   "execution_count": 103,
   "metadata": {
    "colab": {},
    "colab_type": "code",
    "id": "w-D2m4XPVp-3"
   },
   "outputs": [
    {
     "data": {
      "text/html": [
       "<div>\n",
       "<style scoped>\n",
       "    .dataframe tbody tr th:only-of-type {\n",
       "        vertical-align: middle;\n",
       "    }\n",
       "\n",
       "    .dataframe tbody tr th {\n",
       "        vertical-align: top;\n",
       "    }\n",
       "\n",
       "    .dataframe thead th {\n",
       "        text-align: right;\n",
       "    }\n",
       "</style>\n",
       "<table border=\"1\" class=\"dataframe\">\n",
       "  <thead>\n",
       "    <tr style=\"text-align: right;\">\n",
       "      <th></th>\n",
       "      <th>profit</th>\n",
       "      <th>original_title</th>\n",
       "      <th>imdb_id</th>\n",
       "    </tr>\n",
       "  </thead>\n",
       "  <tbody>\n",
       "    <tr>\n",
       "      <th>1245</th>\n",
       "      <td>-165710090</td>\n",
       "      <td>The Lone Ranger</td>\n",
       "      <td>tt1210819</td>\n",
       "    </tr>\n",
       "  </tbody>\n",
       "</table>\n",
       "</div>"
      ],
      "text/plain": [
       "         profit   original_title    imdb_id\n",
       "1245 -165710090  The Lone Ranger  tt1210819"
      ]
     },
     "execution_count": 103,
     "metadata": {},
     "output_type": "execute_result"
    }
   ],
   "source": [
    "data.loc[data['profit'] == data.profit.min()][['profit','original_title', 'imdb_id']]"
   ]
  },
  {
   "cell_type": "markdown",
   "metadata": {
    "colab_type": "text",
    "id": "wEOM5ERVVp-6"
   },
   "source": [
    "# 8. У скольких фильмов из датасета объем сборов оказался выше бюджета?"
   ]
  },
  {
   "cell_type": "code",
   "execution_count": 104,
   "metadata": {
    "colab": {},
    "colab_type": "code",
    "id": "y00_7HD6Vp-7"
   },
   "outputs": [],
   "source": [
    "answers['8'] = '1. 1478'\n",
    "# +"
   ]
  },
  {
   "cell_type": "code",
   "execution_count": 105,
   "metadata": {},
   "outputs": [
    {
     "name": "stdout",
     "output_type": "stream",
     "text": [
      "У  1478 фильмов из датасета объем сборов оказался выше бюджета\n"
     ]
    }
   ],
   "source": [
    "print('У ', data.query('revenue > budget').imdb_id.count(), 'фильмов из датасета объем сборов оказался выше бюджета')"
   ]
  },
  {
   "cell_type": "markdown",
   "metadata": {
    "colab_type": "text",
    "id": "xhpspA9KVp_A"
   },
   "source": [
    "# 9. Какой фильм оказался самым кассовым в 2008 году?"
   ]
  },
  {
   "cell_type": "code",
   "execution_count": 106,
   "metadata": {},
   "outputs": [],
   "source": [
    "answers['9'] = '4. The Dark Knight (tt0468569)'\n",
    "# +"
   ]
  },
  {
   "cell_type": "code",
   "execution_count": 107,
   "metadata": {
    "colab": {},
    "colab_type": "code",
    "id": "MoUyQr9RVp_B"
   },
   "outputs": [
    {
     "data": {
      "text/html": [
       "<div>\n",
       "<style scoped>\n",
       "    .dataframe tbody tr th:only-of-type {\n",
       "        vertical-align: middle;\n",
       "    }\n",
       "\n",
       "    .dataframe tbody tr th {\n",
       "        vertical-align: top;\n",
       "    }\n",
       "\n",
       "    .dataframe thead th {\n",
       "        text-align: right;\n",
       "    }\n",
       "</style>\n",
       "<table border=\"1\" class=\"dataframe\">\n",
       "  <thead>\n",
       "    <tr style=\"text-align: right;\">\n",
       "      <th></th>\n",
       "      <th>profit</th>\n",
       "      <th>original_title</th>\n",
       "      <th>imdb_id</th>\n",
       "      <th>release_year</th>\n",
       "    </tr>\n",
       "  </thead>\n",
       "  <tbody>\n",
       "    <tr>\n",
       "      <th>599</th>\n",
       "      <td>816921825</td>\n",
       "      <td>The Dark Knight</td>\n",
       "      <td>tt0468569</td>\n",
       "      <td>2008</td>\n",
       "    </tr>\n",
       "  </tbody>\n",
       "</table>\n",
       "</div>"
      ],
      "text/plain": [
       "        profit   original_title    imdb_id  release_year\n",
       "599  816921825  The Dark Knight  tt0468569          2008"
      ]
     },
     "execution_count": 107,
     "metadata": {},
     "output_type": "execute_result"
    }
   ],
   "source": [
    "data_2008 = data.query('revenue > budget & release_year == 2008') #фильтрация данных по нескольким условиям\n",
    "data_2008.loc[data_2008['profit'] == data_2008.profit.max()][['profit','original_title', 'imdb_id', 'release_year']]"
   ]
  },
  {
   "cell_type": "markdown",
   "metadata": {
    "colab_type": "text",
    "id": "Zi4hDKidVp_F"
   },
   "source": [
    "# 10. Самый убыточный фильм за период с 2012 по 2014 г. (включительно)?\n"
   ]
  },
  {
   "cell_type": "code",
   "execution_count": 108,
   "metadata": {},
   "outputs": [],
   "source": [
    "answers['10'] = '5. The Lone Ranger (tt1210819)'\n",
    "# +"
   ]
  },
  {
   "cell_type": "code",
   "execution_count": 109,
   "metadata": {
    "colab": {},
    "colab_type": "code",
    "id": "XqyRmufJVp_F"
   },
   "outputs": [
    {
     "data": {
      "text/html": [
       "<div>\n",
       "<style scoped>\n",
       "    .dataframe tbody tr th:only-of-type {\n",
       "        vertical-align: middle;\n",
       "    }\n",
       "\n",
       "    .dataframe tbody tr th {\n",
       "        vertical-align: top;\n",
       "    }\n",
       "\n",
       "    .dataframe thead th {\n",
       "        text-align: right;\n",
       "    }\n",
       "</style>\n",
       "<table border=\"1\" class=\"dataframe\">\n",
       "  <thead>\n",
       "    <tr style=\"text-align: right;\">\n",
       "      <th></th>\n",
       "      <th>profit</th>\n",
       "      <th>original_title</th>\n",
       "      <th>imdb_id</th>\n",
       "      <th>release_year</th>\n",
       "    </tr>\n",
       "  </thead>\n",
       "  <tbody>\n",
       "    <tr>\n",
       "      <th>1245</th>\n",
       "      <td>-165710090</td>\n",
       "      <td>The Lone Ranger</td>\n",
       "      <td>tt1210819</td>\n",
       "      <td>2013</td>\n",
       "    </tr>\n",
       "  </tbody>\n",
       "</table>\n",
       "</div>"
      ],
      "text/plain": [
       "         profit   original_title    imdb_id  release_year\n",
       "1245 -165710090  The Lone Ranger  tt1210819          2013"
      ]
     },
     "execution_count": 109,
     "metadata": {},
     "output_type": "execute_result"
    }
   ],
   "source": [
    "data.query('2012 < release_year < 2014').loc[data.query('2012 < release_year < 2014')['profit'] \n",
    "    == data.query('2012 < release_year < 2014').profit.min()][['profit','original_title', 'imdb_id', 'release_year']]"
   ]
  },
  {
   "cell_type": "markdown",
   "metadata": {
    "colab_type": "text",
    "id": "EA7Sa9dkVp_I"
   },
   "source": [
    "# 11. Какого жанра фильмов больше всего?"
   ]
  },
  {
   "cell_type": "code",
   "execution_count": 110,
   "metadata": {},
   "outputs": [],
   "source": [
    "answers['11'] = '3. Drama'\n",
    "# +"
   ]
  },
  {
   "cell_type": "code",
   "execution_count": 111,
   "metadata": {
    "colab": {},
    "colab_type": "code",
    "id": "zsJAwJ8QVp_J"
   },
   "outputs": [
    {
     "data": {
      "text/plain": [
       "Drama              782\n",
       "Comedy             683\n",
       "Thriller           596\n",
       "Action             582\n",
       "Adventure          415\n",
       "Crime              315\n",
       "Romance            308\n",
       "Family             260\n",
       "Science Fiction    248\n",
       "Fantasy            222\n",
       "Horror             176\n",
       "Mystery            168\n",
       "Animation          139\n",
       "Music               64\n",
       "History             62\n",
       "War                 58\n",
       "Western             19\n",
       "Documentary          8\n",
       "Foreign              2\n",
       "dtype: int64"
      ]
     },
     "execution_count": 111,
     "metadata": {},
     "output_type": "execute_result"
    }
   ],
   "source": [
    "data.genres.str.split('|',expand=True).stack().value_counts()"
   ]
  },
  {
   "cell_type": "markdown",
   "metadata": {
    "colab_type": "text",
    "id": "Ax6g2C8SVp_M"
   },
   "source": [
    "ВАРИАНТ 2"
   ]
  },
  {
   "cell_type": "code",
   "execution_count": null,
   "metadata": {
    "colab": {},
    "colab_type": "code",
    "id": "otO3SbrSVp_N"
   },
   "outputs": [],
   "source": []
  },
  {
   "cell_type": "markdown",
   "metadata": {
    "colab_type": "text",
    "id": "T9_bPWpkVp_Q"
   },
   "source": [
    "# 12. Фильмы какого жанра чаще всего становятся прибыльными? "
   ]
  },
  {
   "cell_type": "code",
   "execution_count": 112,
   "metadata": {},
   "outputs": [],
   "source": [
    "answers['12'] = '1. Drama'\n",
    "# +"
   ]
  },
  {
   "cell_type": "code",
   "execution_count": 113,
   "metadata": {
    "colab": {},
    "colab_type": "code",
    "id": "Tmt8MaK1Vp_R"
   },
   "outputs": [
    {
     "data": {
      "text/plain": [
       "Drama              560\n",
       "Comedy             551\n",
       "Thriller           446\n",
       "Action             444\n",
       "Adventure          337\n",
       "Romance            242\n",
       "Crime              231\n",
       "Family             226\n",
       "Science Fiction    195\n",
       "Fantasy            188\n",
       "Horror             150\n",
       "Animation          120\n",
       "Mystery            119\n",
       "Music               47\n",
       "History             46\n",
       "War                 41\n",
       "Western             12\n",
       "Documentary          7\n",
       "dtype: int64"
      ]
     },
     "execution_count": 113,
     "metadata": {},
     "output_type": "execute_result"
    }
   ],
   "source": [
    "data[data.profit>0].genres.str.split('|',expand=True).stack().value_counts()"
   ]
  },
  {
   "cell_type": "markdown",
   "metadata": {
    "colab_type": "text",
    "id": "0F23bgsDVp_U"
   },
   "source": [
    "# 13. У какого режиссера самые большие суммарные кассовые сбооры?"
   ]
  },
  {
   "cell_type": "code",
   "execution_count": 114,
   "metadata": {
    "colab": {},
    "colab_type": "code",
    "id": "K6Z3J8ygVp_X"
   },
   "outputs": [],
   "source": [
    "answers['13'] = '5. Peter Jackson'\n",
    "# +"
   ]
  },
  {
   "cell_type": "code",
   "execution_count": 115,
   "metadata": {},
   "outputs": [
    {
     "data": {
      "text/plain": [
       "director\n",
       "Peter Jackson    6490593685\n",
       "Name: revenue, dtype: int64"
      ]
     },
     "execution_count": 115,
     "metadata": {},
     "output_type": "execute_result"
    }
   ],
   "source": [
    "data.groupby(['director'])['revenue'].sum().sort_values(ascending = False).head(1)"
   ]
  },
  {
   "cell_type": "markdown",
   "metadata": {
    "colab_type": "text",
    "id": "PsYC9FgRVp_a"
   },
   "source": [
    "# 14. Какой режисер снял больше всего фильмов в стиле Action?"
   ]
  },
  {
   "cell_type": "code",
   "execution_count": 116,
   "metadata": {
    "colab": {},
    "colab_type": "code",
    "id": "wd2M-wHeVp_b"
   },
   "outputs": [],
   "source": [
    "answers['14'] = '3. Robert Rodriguez'\n",
    "# +"
   ]
  },
  {
   "cell_type": "code",
   "execution_count": 117,
   "metadata": {},
   "outputs": [
    {
     "data": {
      "text/plain": [
       "director\n",
       "Robert Rodriguez    9\n",
       "Name: genres, dtype: int64"
      ]
     },
     "execution_count": 117,
     "metadata": {},
     "output_type": "execute_result"
    }
   ],
   "source": [
    "data_split_genres_director.query('genres in [\"Action\"]').groupby('director').genres.count().sort_values(ascending = False).head(1)"
   ]
  },
  {
   "cell_type": "markdown",
   "metadata": {
    "colab_type": "text",
    "id": "PQ0KciD7Vp_f"
   },
   "source": [
    "# 15. Фильмы с каким актером принесли самые высокие кассовые сборы в 2012 году? "
   ]
  },
  {
   "cell_type": "code",
   "execution_count": 118,
   "metadata": {
    "colab": {},
    "colab_type": "code",
    "id": "aga62oeKVp_g"
   },
   "outputs": [],
   "source": [
    "answers['15'] = '3. Chris Hemsworth'\n",
    "# +"
   ]
  },
  {
   "cell_type": "code",
   "execution_count": 119,
   "metadata": {},
   "outputs": [
    {
     "data": {
      "text/plain": [
       "cast\n",
       "Chris Hemsworth      2027450773\n",
       "Denis Leary          1629460639\n",
       "Anne Hathaway        1522851057\n",
       "Chris Evans          1519557910\n",
       "Robert Downey Jr.    1519557910\n",
       "                        ...    \n",
       "Jason Bateman           3428048\n",
       "Danny Huston            2106557\n",
       "Sami Gayle              2106557\n",
       "Josh Lucas              2106557\n",
       "Nicolas Cage            2106557\n",
       "Name: revenue, Length: 466, dtype: int64"
      ]
     },
     "execution_count": 119,
     "metadata": {},
     "output_type": "execute_result"
    }
   ],
   "source": [
    "data_split_cast.query('release_year == 2012').groupby('cast').revenue.sum().sort_values(ascending = False)"
   ]
  },
  {
   "cell_type": "markdown",
   "metadata": {
    "colab_type": "text",
    "id": "mWHyyL7QVp_j"
   },
   "source": [
    "# 16. Какой актер снялся в большем количестве высокобюджетных фильмов?"
   ]
  },
  {
   "cell_type": "code",
   "execution_count": 120,
   "metadata": {
    "colab": {},
    "colab_type": "code",
    "id": "qQtmHKTFVp_k"
   },
   "outputs": [],
   "source": [
    "answers['16'] = '3. Matt Damon'\n",
    "# +"
   ]
  },
  {
   "cell_type": "code",
   "execution_count": 121,
   "metadata": {},
   "outputs": [
    {
     "data": {
      "text/plain": [
       "cast\n",
       "Matt Damon           18\n",
       "Adam Sandler         17\n",
       "Angelina Jolie       16\n",
       "Eddie Murphy         15\n",
       "Samuel L. Jackson    15\n",
       "                     ..\n",
       "Leslie Bibb           1\n",
       "Leonard Nimoy         1\n",
       "Lennie James          1\n",
       "Lena Olin             1\n",
       "50 Cent               1\n",
       "Name: cast, Length: 1505, dtype: int64"
      ]
     },
     "execution_count": 121,
     "metadata": {},
     "output_type": "execute_result"
    }
   ],
   "source": [
    "data_split_cast.loc[data_split_cast['budget'] >= data.budget.mean()].groupby('cast').cast.count().sort_values(ascending = False)"
   ]
  },
  {
   "cell_type": "markdown",
   "metadata": {
    "colab_type": "text",
    "id": "NIh6AaW5Vp_n"
   },
   "source": [
    "# 17. В фильмах какого жанра больше всего снимался Nicolas Cage? "
   ]
  },
  {
   "cell_type": "code",
   "execution_count": 122,
   "metadata": {
    "colab": {},
    "colab_type": "code",
    "id": "H74SJDIBVp_n"
   },
   "outputs": [],
   "source": [
    "answers['17'] = '2. Action'\n",
    "# +"
   ]
  },
  {
   "cell_type": "code",
   "execution_count": 123,
   "metadata": {},
   "outputs": [
    {
     "data": {
      "text/plain": [
       "genres\n",
       "Action             17\n",
       "Thriller           15\n",
       "Drama              12\n",
       "Crime              10\n",
       "Fantasy             8\n",
       "Adventure           7\n",
       "Comedy              6\n",
       "Science Fiction     4\n",
       "Mystery             3\n",
       "Family              3\n",
       "Animation           3\n",
       "History             2\n",
       "War                 1\n",
       "Romance             1\n",
       "Horror              1\n",
       "Name: genres, dtype: int64"
      ]
     },
     "execution_count": 123,
     "metadata": {},
     "output_type": "execute_result"
    }
   ],
   "source": [
    "data_split_genres[data_split_genres.cast.str.contains('Nicolas Cage', regex=True)].groupby('genres').genres.count().sort_values(ascending = False)"
   ]
  },
  {
   "cell_type": "markdown",
   "metadata": {
    "colab_type": "text",
    "id": "RqOmPRfWVp_q"
   },
   "source": [
    "# 18. Самый убыточный фильм от Paramount Pictures"
   ]
  },
  {
   "cell_type": "code",
   "execution_count": null,
   "metadata": {},
   "outputs": [],
   "source": [
    "df = data['Reviews'].str.split(', \\[\\'', expand=True)\n",
    "df[1] = df[1].str.strip(']')\n",
    "df[1] = df[1].str.strip('\\'')\n",
    "\n",
    "# разделеине 2-х дат на различные столбцы для получения разницы\n",
    "df = df[1].str.split('\\', \\'', expand=True)\n",
    "df[0] = df[0].fillna(0)\n",
    "df[1] = df[1].fillna(0)\n",
    "df[0] = pd.to_datetime(df[0])\n",
    "df[1] = pd.to_datetime(df[1])\n",
    "\n",
    "data['count_day_reviews'] = df[0] - df[1]\n",
    "        \n",
    "date_today = datetime.strptime('2020-09-20', '%Y-%m-%d')\n",
    "data['count_day_reviews_today'] = date_today - df[0]\n",
    "\n",
    "# конвертируем datetime в int для модели обучения\n",
    "data['count_day_reviews'] = data['count_day_reviews'] / pd.to_timedelta('1D')\n",
    "data['count_day_reviews_today'] = data['count_day_reviews_today'] / \\\n",
    "        pd.to_timedelta('1D')"
   ]
  },
  {
   "cell_type": "code",
   "execution_count": 124,
   "metadata": {
    "colab": {},
    "colab_type": "code",
    "id": "9E_B0Y96Vp_r"
   },
   "outputs": [],
   "source": [
    "answers['18'] = '1. K-19: The Widowmaker (tt0267626)'"
   ]
  },
  {
   "cell_type": "code",
   "execution_count": 125,
   "metadata": {},
   "outputs": [
    {
     "data": {
      "text/plain": [
       "imdb_id                                                         tt0267626\n",
       "budget                                                          100000000\n",
       "revenue                                                          35168966\n",
       "original_title                                       K-19: The Widowmaker\n",
       "cast                    Harrison Ford|Liam Neeson|Peter Sarsgaard|Joss...\n",
       "director                                                  Kathryn Bigelow\n",
       "tagline                                          Fate has found its hero.\n",
       "overview                When Russia's first nuclear submarine malfunct...\n",
       "runtime                                                               138\n",
       "genres                                             Thriller|Drama|History\n",
       "production_companies                                   Paramount Pictures\n",
       "release_date                                                    7/19/2002\n",
       "vote_average                                                            6\n",
       "release_year                                                         2002\n",
       "profit                                                          -64831034\n",
       "Name: 2998, dtype: object"
      ]
     },
     "execution_count": 125,
     "metadata": {},
     "output_type": "execute_result"
    }
   ],
   "source": [
    "data_split_companies.query('production_companies in [\"Paramount Pictures\"]').loc[data_split_companies.query('production_companies in [\"Paramount Pictures\"]').profit.idxmin()]"
   ]
  },
  {
   "cell_type": "markdown",
   "metadata": {
    "colab_type": "text",
    "id": "vS8Ur6ddVp_u"
   },
   "source": [
    "# 19. Какой год стал самым успешным по суммарным кассовым сборам?"
   ]
  },
  {
   "cell_type": "code",
   "execution_count": 126,
   "metadata": {},
   "outputs": [],
   "source": [
    "answers['19'] = '5. 2015'\n",
    "# +"
   ]
  },
  {
   "cell_type": "code",
   "execution_count": 127,
   "metadata": {
    "colab": {},
    "colab_type": "code",
    "id": "Dnbt4GdIVp_v"
   },
   "outputs": [
    {
     "data": {
      "text/plain": [
       "release_year\n",
       "2015    25449202382\n",
       "Name: revenue, dtype: int64"
      ]
     },
     "execution_count": 127,
     "metadata": {},
     "output_type": "execute_result"
    }
   ],
   "source": [
    "data.groupby('release_year').revenue.sum().sort_values(ascending = False).head(1)"
   ]
  },
  {
   "cell_type": "markdown",
   "metadata": {
    "colab_type": "text",
    "id": "JAzJh4QAVp_z"
   },
   "source": [
    "# 20. Какой самый прибыльный год для студии Warner Bros?"
   ]
  },
  {
   "cell_type": "code",
   "execution_count": 128,
   "metadata": {
    "colab": {},
    "colab_type": "code",
    "id": "wgVu02DEVp_0"
   },
   "outputs": [],
   "source": [
    "answers['20'] = '1. 2014'\n",
    "# +"
   ]
  },
  {
   "cell_type": "code",
   "execution_count": 129,
   "metadata": {},
   "outputs": [
    {
     "data": {
      "text/plain": [
       "release_year\n",
       "2014    2295464519\n",
       "Name: profit, dtype: int64"
      ]
     },
     "execution_count": 129,
     "metadata": {},
     "output_type": "execute_result"
    }
   ],
   "source": [
    "data[data.production_companies.str.contains('Warner Bros', regex = True)].groupby('release_year').profit.sum().sort_values(ascending = False).head(1)"
   ]
  },
  {
   "cell_type": "markdown",
   "metadata": {
    "colab_type": "text",
    "id": "8Im1S2HRVp_4"
   },
   "source": [
    "# 21. В каком месяце за все годы суммарно вышло больше всего фильмов?"
   ]
  },
  {
   "cell_type": "code",
   "execution_count": 130,
   "metadata": {
    "colab": {},
    "colab_type": "code",
    "id": "lev6TH7gVp_4"
   },
   "outputs": [],
   "source": [
    "answers['21'] = '4. Сентябрь'\n",
    "# +"
   ]
  },
  {
   "cell_type": "code",
   "execution_count": 131,
   "metadata": {},
   "outputs": [
    {
     "data": {
      "text/plain": [
       "month\n",
       "9     227\n",
       "12    190\n",
       "10    186\n",
       "8     161\n",
       "3     156\n",
       "4     149\n",
       "6     147\n",
       "11    146\n",
       "7     142\n",
       "5     140\n",
       "2     135\n",
       "1     110\n",
       "Name: month, dtype: int64"
      ]
     },
     "execution_count": 131,
     "metadata": {},
     "output_type": "execute_result"
    }
   ],
   "source": [
    "data_full.groupby('month').month.count().sort_values(ascending = False)"
   ]
  },
  {
   "cell_type": "markdown",
   "metadata": {
    "colab_type": "text",
    "id": "uAJsZ_NeVp_7"
   },
   "source": [
    "# 22. Сколько суммарно вышло фильмов летом? (за июнь, июль, август)"
   ]
  },
  {
   "cell_type": "code",
   "execution_count": 132,
   "metadata": {
    "colab": {},
    "colab_type": "code",
    "id": "Aa-hEREoVp_8"
   },
   "outputs": [],
   "source": [
    "answers['22'] = '2. 450'\n",
    "# +"
   ]
  },
  {
   "cell_type": "code",
   "execution_count": 133,
   "metadata": {},
   "outputs": [
    {
     "data": {
      "text/plain": [
       "month\n",
       "Осень    559\n",
       "Лето     450\n",
       "Весна    445\n",
       "Зима     435\n",
       "Name: month, dtype: int64"
      ]
     },
     "execution_count": 133,
     "metadata": {},
     "output_type": "execute_result"
    }
   ],
   "source": [
    "data_full.month = data_full.month.apply(func)\n",
    "data_full.groupby('month').month.count().sort_values(ascending = False)"
   ]
  },
  {
   "cell_type": "markdown",
   "metadata": {
    "colab_type": "text",
    "id": "G94ppOY1VqAA"
   },
   "source": [
    "# 23. Для какого режиссера зима – самое продуктивное время года? "
   ]
  },
  {
   "cell_type": "code",
   "execution_count": 134,
   "metadata": {},
   "outputs": [],
   "source": [
    "answers['23'] = '5. Peter Jackson'\n",
    "# +"
   ]
  },
  {
   "cell_type": "code",
   "execution_count": 152,
   "metadata": {
    "colab": {},
    "colab_type": "code",
    "id": "RhNTsamuVqAB"
   },
   "outputs": [
    {
     "data": {
      "text/plain": [
       "director\n",
       "Peter Jackson            7\n",
       "Steven Soderbergh        6\n",
       "Clint Eastwood           6\n",
       "Martin Scorsese          4\n",
       "Adam Shankman            4\n",
       "                        ..\n",
       "Matt Bettinelli-Olpin    1\n",
       "Matt Reeves              1\n",
       "Matthew O'Callaghan      1\n",
       "Matthew Vaughn           1\n",
       "Jon Avnet                1\n",
       "Name: month, Length: 358, dtype: int64"
      ]
     },
     "execution_count": 152,
     "metadata": {},
     "output_type": "execute_result"
    }
   ],
   "source": [
    "data_full.query('month in [\"Зима\"]').groupby('director').month.count().sort_values(ascending = False)"
   ]
  },
  {
   "cell_type": "markdown",
   "metadata": {
    "colab_type": "text",
    "id": "RBo0JVjVVqAF"
   },
   "source": [
    "# 24. Какая студия дает самые длинные названия своим фильмам по количеству символов?"
   ]
  },
  {
   "cell_type": "code",
   "execution_count": 136,
   "metadata": {
    "colab": {},
    "colab_type": "code",
    "id": "QRGS8L0iVqAG"
   },
   "outputs": [],
   "source": [
    "answers['24'] = '5. Four By Two Productions'\n",
    "# +"
   ]
  },
  {
   "cell_type": "code",
   "execution_count": 137,
   "metadata": {},
   "outputs": [
    {
     "data": {
      "text/plain": [
       "production_companies\n",
       "Four By Two Productions       83.0\n",
       "Jim Henson Company, The       59.0\n",
       "Dos Corazones                 47.0\n",
       "Museum Canada Productions     46.0\n",
       "Polsky Films                  46.0\n",
       "                              ... \n",
       "Everest Entertainment          3.0\n",
       "Berlanti Productions           3.0\n",
       "XM2 Productions                2.0\n",
       "Ixtlan Productions             2.0\n",
       "Global Entertainment Group     2.0\n",
       "Name: lenght, Length: 1771, dtype: float64"
      ]
     },
     "execution_count": 137,
     "metadata": {},
     "output_type": "execute_result"
    }
   ],
   "source": [
    "data_split_companies['lenght'] = data_split_companies.original_title.str.len()\n",
    "data_split_companies.groupby('production_companies').lenght.mean().sort_values(ascending = False)"
   ]
  },
  {
   "cell_type": "markdown",
   "metadata": {
    "colab_type": "text",
    "id": "9G0hbvR7VqAK"
   },
   "source": [
    "# 25. Описание фильмов какой студии в среднем самые длинные по количеству слов?"
   ]
  },
  {
   "cell_type": "code",
   "execution_count": 138,
   "metadata": {
    "colab": {},
    "colab_type": "code",
    "id": "Ge2GsLNxVqAK"
   },
   "outputs": [],
   "source": [
    "answers['25'] = '3. Midnight Picture Show'\n",
    "# +"
   ]
  },
  {
   "cell_type": "code",
   "execution_count": 139,
   "metadata": {},
   "outputs": [
    {
     "data": {
      "text/plain": [
       "production_companies\n",
       "Midnight Picture Show                    175.0\n",
       "Room 9 Entertainment                     161.0\n",
       "Heineken Branded Entertainment           161.0\n",
       "98 MPH Productions                       159.0\n",
       "Brookwell-McNamara Entertainment         156.0\n",
       "                                         ...  \n",
       "London Boulevard                          13.0\n",
       "Phantom Four                              13.0\n",
       "Henceforth                                13.0\n",
       "Empire Pictures                           11.0\n",
       "Motion Picture Corporation of America     11.0\n",
       "Name: lenght_overview, Length: 1771, dtype: float64"
      ]
     },
     "execution_count": 139,
     "metadata": {},
     "output_type": "execute_result"
    }
   ],
   "source": [
    "data_split_companies['lenght_overview'] =data_split_companies.overview.str.split(' ').str.len()\n",
    "data_split_companies.groupby('production_companies').lenght_overview.mean().sort_values(ascending = False)"
   ]
  },
  {
   "cell_type": "markdown",
   "metadata": {
    "colab_type": "text",
    "id": "FJ1AFt90VqAP"
   },
   "source": [
    "# 26. Какие фильмы входят в 1 процент лучших по рейтингу? \n",
    "по vote_average"
   ]
  },
  {
   "cell_type": "code",
   "execution_count": 140,
   "metadata": {},
   "outputs": [],
   "source": [
    "answers['26'] = '1. Inside Out, The Dark Knight, 12 Years a Slave'\n",
    "# +"
   ]
  },
  {
   "cell_type": "code",
   "execution_count": 141,
   "metadata": {
    "colab": {},
    "colab_type": "code",
    "id": "8qmJVq4CVqAQ"
   },
   "outputs": [
    {
     "data": {
      "text/html": [
       "<div>\n",
       "<style scoped>\n",
       "    .dataframe tbody tr th:only-of-type {\n",
       "        vertical-align: middle;\n",
       "    }\n",
       "\n",
       "    .dataframe tbody tr th {\n",
       "        vertical-align: top;\n",
       "    }\n",
       "\n",
       "    .dataframe thead th {\n",
       "        text-align: right;\n",
       "    }\n",
       "</style>\n",
       "<table border=\"1\" class=\"dataframe\">\n",
       "  <thead>\n",
       "    <tr style=\"text-align: right;\">\n",
       "      <th></th>\n",
       "      <th>imdb_id</th>\n",
       "      <th>budget</th>\n",
       "      <th>revenue</th>\n",
       "      <th>original_title</th>\n",
       "      <th>cast</th>\n",
       "      <th>director</th>\n",
       "      <th>tagline</th>\n",
       "      <th>overview</th>\n",
       "      <th>runtime</th>\n",
       "      <th>genres</th>\n",
       "      <th>production_companies</th>\n",
       "      <th>release_date</th>\n",
       "      <th>vote_average</th>\n",
       "      <th>release_year</th>\n",
       "      <th>profit</th>\n",
       "    </tr>\n",
       "  </thead>\n",
       "  <tbody>\n",
       "    <tr>\n",
       "      <th>9</th>\n",
       "      <td>tt2096673</td>\n",
       "      <td>175000000</td>\n",
       "      <td>853708609</td>\n",
       "      <td>Inside Out</td>\n",
       "      <td>Amy Poehler|Phyllis Smith|Richard Kind|Bill Ha...</td>\n",
       "      <td>Pete Docter</td>\n",
       "      <td>Meet the little voices inside your head.</td>\n",
       "      <td>Growing up can be a bumpy road, and it's no ex...</td>\n",
       "      <td>94</td>\n",
       "      <td>Comedy|Animation|Family</td>\n",
       "      <td>Walt Disney Pictures|Pixar Animation Studios|W...</td>\n",
       "      <td>6/9/2015</td>\n",
       "      <td>8.0</td>\n",
       "      <td>2015</td>\n",
       "      <td>678708609</td>\n",
       "    </tr>\n",
       "    <tr>\n",
       "      <th>34</th>\n",
       "      <td>tt3170832</td>\n",
       "      <td>6000000</td>\n",
       "      <td>35401758</td>\n",
       "      <td>Room</td>\n",
       "      <td>Brie Larson|Jacob Tremblay|Joan Allen|Sean Bri...</td>\n",
       "      <td>Lenny Abrahamson</td>\n",
       "      <td>Love knows no boundaries</td>\n",
       "      <td>Jack is a young boy of 5 years old who has liv...</td>\n",
       "      <td>117</td>\n",
       "      <td>Drama|Thriller</td>\n",
       "      <td>Element Pictures|No Trace Camping|A24|Duperele...</td>\n",
       "      <td>10/16/2015</td>\n",
       "      <td>8.0</td>\n",
       "      <td>2015</td>\n",
       "      <td>29401758</td>\n",
       "    </tr>\n",
       "    <tr>\n",
       "      <th>118</th>\n",
       "      <td>tt0816692</td>\n",
       "      <td>165000000</td>\n",
       "      <td>621752480</td>\n",
       "      <td>Interstellar</td>\n",
       "      <td>Matthew McConaughey|Jessica Chastain|Anne Hath...</td>\n",
       "      <td>Christopher Nolan</td>\n",
       "      <td>Mankind was born on Earth. It was never meant ...</td>\n",
       "      <td>Interstellar chronicles the adventures of a gr...</td>\n",
       "      <td>169</td>\n",
       "      <td>Adventure|Drama|Science Fiction</td>\n",
       "      <td>Paramount Pictures|Legendary Pictures|Warner B...</td>\n",
       "      <td>11/5/2014</td>\n",
       "      <td>8.0</td>\n",
       "      <td>2014</td>\n",
       "      <td>456752480</td>\n",
       "    </tr>\n",
       "    <tr>\n",
       "      <th>119</th>\n",
       "      <td>tt2015381</td>\n",
       "      <td>170000000</td>\n",
       "      <td>773312399</td>\n",
       "      <td>Guardians of the Galaxy</td>\n",
       "      <td>Chris Pratt|Zoe Saldana|Dave Bautista|Vin Dies...</td>\n",
       "      <td>James Gunn</td>\n",
       "      <td>All heroes start somewhere.</td>\n",
       "      <td>Light years from Earth, 26 years after being a...</td>\n",
       "      <td>121</td>\n",
       "      <td>Action|Science Fiction|Adventure</td>\n",
       "      <td>Marvel Studios|Moving Picture Company (MPC)|Bu...</td>\n",
       "      <td>7/30/2014</td>\n",
       "      <td>7.9</td>\n",
       "      <td>2014</td>\n",
       "      <td>603312399</td>\n",
       "    </tr>\n",
       "    <tr>\n",
       "      <th>125</th>\n",
       "      <td>tt2084970</td>\n",
       "      <td>14000000</td>\n",
       "      <td>233555708</td>\n",
       "      <td>The Imitation Game</td>\n",
       "      <td>Benedict Cumberbatch|Keira Knightley|Matthew G...</td>\n",
       "      <td>Morten Tyldum</td>\n",
       "      <td>The true enigma was the man who cracked the code.</td>\n",
       "      <td>Based on the real life story of legendary cryp...</td>\n",
       "      <td>113</td>\n",
       "      <td>History|Drama|Thriller|War</td>\n",
       "      <td>Black Bear Pictures|Bristol Automotive</td>\n",
       "      <td>11/14/2014</td>\n",
       "      <td>8.0</td>\n",
       "      <td>2014</td>\n",
       "      <td>219555708</td>\n",
       "    </tr>\n",
       "    <tr>\n",
       "      <th>128</th>\n",
       "      <td>tt2267998</td>\n",
       "      <td>61000000</td>\n",
       "      <td>369330363</td>\n",
       "      <td>Gone Girl</td>\n",
       "      <td>Ben Affleck|Rosamund Pike|Carrie Coon|Neil Pat...</td>\n",
       "      <td>David Fincher</td>\n",
       "      <td>You don't know what you've got 'til it's...</td>\n",
       "      <td>With his wife's disappearance having become th...</td>\n",
       "      <td>145</td>\n",
       "      <td>Mystery|Thriller|Drama</td>\n",
       "      <td>Twentieth Century Fox Film Corporation|Regency...</td>\n",
       "      <td>10/1/2014</td>\n",
       "      <td>7.9</td>\n",
       "      <td>2014</td>\n",
       "      <td>308330363</td>\n",
       "    </tr>\n",
       "    <tr>\n",
       "      <th>138</th>\n",
       "      <td>tt2278388</td>\n",
       "      <td>30000000</td>\n",
       "      <td>174600318</td>\n",
       "      <td>The Grand Budapest Hotel</td>\n",
       "      <td>Ralph Fiennes|Tony Revolori|F. Murray Abraham|...</td>\n",
       "      <td>Wes Anderson</td>\n",
       "      <td>A perfect holiday without leaving home.</td>\n",
       "      <td>The Grand Budapest Hotel tells of a legendary ...</td>\n",
       "      <td>99</td>\n",
       "      <td>Comedy|Drama</td>\n",
       "      <td>Fox Searchlight Pictures|Scott Rudin Productio...</td>\n",
       "      <td>2/26/2014</td>\n",
       "      <td>7.9</td>\n",
       "      <td>2014</td>\n",
       "      <td>144600318</td>\n",
       "    </tr>\n",
       "    <tr>\n",
       "      <th>370</th>\n",
       "      <td>tt1375666</td>\n",
       "      <td>160000000</td>\n",
       "      <td>825500000</td>\n",
       "      <td>Inception</td>\n",
       "      <td>Leonardo DiCaprio|Joseph Gordon-Levitt|Ellen P...</td>\n",
       "      <td>Christopher Nolan</td>\n",
       "      <td>Your mind is the scene of the crime.</td>\n",
       "      <td>Cobb, a skilled thief who commits corporate es...</td>\n",
       "      <td>148</td>\n",
       "      <td>Action|Thriller|Science Fiction|Mystery|Adventure</td>\n",
       "      <td>Legendary Pictures|Warner Bros.|Syncopy</td>\n",
       "      <td>7/14/2010</td>\n",
       "      <td>7.9</td>\n",
       "      <td>2010</td>\n",
       "      <td>665500000</td>\n",
       "    </tr>\n",
       "    <tr>\n",
       "      <th>599</th>\n",
       "      <td>tt0468569</td>\n",
       "      <td>185000000</td>\n",
       "      <td>1001921825</td>\n",
       "      <td>The Dark Knight</td>\n",
       "      <td>Christian Bale|Michael Caine|Heath Ledger|Aaro...</td>\n",
       "      <td>Christopher Nolan</td>\n",
       "      <td>Why So Serious?</td>\n",
       "      <td>Batman raises the stakes in his war on crime. ...</td>\n",
       "      <td>152</td>\n",
       "      <td>Drama|Action|Crime|Thriller</td>\n",
       "      <td>DC Comics|Legendary Pictures|Warner Bros.|Syncopy</td>\n",
       "      <td>7/16/2008</td>\n",
       "      <td>8.1</td>\n",
       "      <td>2008</td>\n",
       "      <td>816921825</td>\n",
       "    </tr>\n",
       "    <tr>\n",
       "      <th>872</th>\n",
       "      <td>tt0253474</td>\n",
       "      <td>35000000</td>\n",
       "      <td>120072577</td>\n",
       "      <td>The Pianist</td>\n",
       "      <td>Adrien Brody|Thomas Kretschmann|Frank Finlay|M...</td>\n",
       "      <td>Roman Polanski</td>\n",
       "      <td>Music was his passion. Survival was his master...</td>\n",
       "      <td>The Pianist is a film adapted from the biograp...</td>\n",
       "      <td>150</td>\n",
       "      <td>Drama|War</td>\n",
       "      <td>Bac Films|Canal+Polska|Heritage Films|Studio B...</td>\n",
       "      <td>9/24/2002</td>\n",
       "      <td>7.9</td>\n",
       "      <td>2002</td>\n",
       "      <td>85072577</td>\n",
       "    </tr>\n",
       "    <tr>\n",
       "      <th>1081</th>\n",
       "      <td>tt0167260</td>\n",
       "      <td>94000000</td>\n",
       "      <td>1118888979</td>\n",
       "      <td>The Lord of the Rings: The Return of the King</td>\n",
       "      <td>Elijah Wood|Ian McKellen|Viggo Mortensen|Liv T...</td>\n",
       "      <td>Peter Jackson</td>\n",
       "      <td>The eye of the enemy is moving.</td>\n",
       "      <td>Aragorn is revealed as the heir to the ancient...</td>\n",
       "      <td>201</td>\n",
       "      <td>Adventure|Fantasy|Action</td>\n",
       "      <td>WingNut Films|New Line Cinema</td>\n",
       "      <td>12/1/2003</td>\n",
       "      <td>7.9</td>\n",
       "      <td>2003</td>\n",
       "      <td>1024888979</td>\n",
       "    </tr>\n",
       "    <tr>\n",
       "      <th>1183</th>\n",
       "      <td>tt0993846</td>\n",
       "      <td>100000000</td>\n",
       "      <td>392000694</td>\n",
       "      <td>The Wolf of Wall Street</td>\n",
       "      <td>Leonardo DiCaprio|Jonah Hill|Margot Robbie|Kyl...</td>\n",
       "      <td>Martin Scorsese</td>\n",
       "      <td>EARN. SPEND. PARTY.</td>\n",
       "      <td>A New York stockbroker refuses to cooperate in...</td>\n",
       "      <td>180</td>\n",
       "      <td>Crime|Drama|Comedy</td>\n",
       "      <td>Paramount Pictures|Appian Way|EMJAG Production...</td>\n",
       "      <td>12/25/2013</td>\n",
       "      <td>7.9</td>\n",
       "      <td>2013</td>\n",
       "      <td>292000694</td>\n",
       "    </tr>\n",
       "    <tr>\n",
       "      <th>1191</th>\n",
       "      <td>tt2024544</td>\n",
       "      <td>20000000</td>\n",
       "      <td>187000000</td>\n",
       "      <td>12 Years a Slave</td>\n",
       "      <td>Chiwetel Ejiofor|Michael Fassbender|Lupita Nyo...</td>\n",
       "      <td>Steve McQueen</td>\n",
       "      <td>The extraordinary true story of Solomon Northup</td>\n",
       "      <td>In the pre-Civil War United States, Solomon No...</td>\n",
       "      <td>134</td>\n",
       "      <td>Drama|History</td>\n",
       "      <td>Plan B Entertainment|Regency Enterprises|River...</td>\n",
       "      <td>10/18/2013</td>\n",
       "      <td>7.9</td>\n",
       "      <td>2013</td>\n",
       "      <td>167000000</td>\n",
       "    </tr>\n",
       "    <tr>\n",
       "      <th>1800</th>\n",
       "      <td>tt0209144</td>\n",
       "      <td>9000000</td>\n",
       "      <td>39723096</td>\n",
       "      <td>Memento</td>\n",
       "      <td>Guy Pearce|Carrie-Anne Moss|Joe Pantoliano|Mar...</td>\n",
       "      <td>Christopher Nolan</td>\n",
       "      <td>Some memories are best forgotten.</td>\n",
       "      <td>Suffering short-term memory loss after a head ...</td>\n",
       "      <td>113</td>\n",
       "      <td>Mystery|Thriller</td>\n",
       "      <td>Summit Entertainment|Newmarket Capital Group|T...</td>\n",
       "      <td>10/11/2000</td>\n",
       "      <td>7.9</td>\n",
       "      <td>2000</td>\n",
       "      <td>30723096</td>\n",
       "    </tr>\n",
       "  </tbody>\n",
       "</table>\n",
       "</div>"
      ],
      "text/plain": [
       "        imdb_id     budget     revenue  \\\n",
       "9     tt2096673  175000000   853708609   \n",
       "34    tt3170832    6000000    35401758   \n",
       "118   tt0816692  165000000   621752480   \n",
       "119   tt2015381  170000000   773312399   \n",
       "125   tt2084970   14000000   233555708   \n",
       "128   tt2267998   61000000   369330363   \n",
       "138   tt2278388   30000000   174600318   \n",
       "370   tt1375666  160000000   825500000   \n",
       "599   tt0468569  185000000  1001921825   \n",
       "872   tt0253474   35000000   120072577   \n",
       "1081  tt0167260   94000000  1118888979   \n",
       "1183  tt0993846  100000000   392000694   \n",
       "1191  tt2024544   20000000   187000000   \n",
       "1800  tt0209144    9000000    39723096   \n",
       "\n",
       "                                     original_title  \\\n",
       "9                                        Inside Out   \n",
       "34                                             Room   \n",
       "118                                    Interstellar   \n",
       "119                         Guardians of the Galaxy   \n",
       "125                              The Imitation Game   \n",
       "128                                       Gone Girl   \n",
       "138                        The Grand Budapest Hotel   \n",
       "370                                       Inception   \n",
       "599                                 The Dark Knight   \n",
       "872                                     The Pianist   \n",
       "1081  The Lord of the Rings: The Return of the King   \n",
       "1183                        The Wolf of Wall Street   \n",
       "1191                               12 Years a Slave   \n",
       "1800                                        Memento   \n",
       "\n",
       "                                                   cast           director  \\\n",
       "9     Amy Poehler|Phyllis Smith|Richard Kind|Bill Ha...        Pete Docter   \n",
       "34    Brie Larson|Jacob Tremblay|Joan Allen|Sean Bri...   Lenny Abrahamson   \n",
       "118   Matthew McConaughey|Jessica Chastain|Anne Hath...  Christopher Nolan   \n",
       "119   Chris Pratt|Zoe Saldana|Dave Bautista|Vin Dies...         James Gunn   \n",
       "125   Benedict Cumberbatch|Keira Knightley|Matthew G...      Morten Tyldum   \n",
       "128   Ben Affleck|Rosamund Pike|Carrie Coon|Neil Pat...      David Fincher   \n",
       "138   Ralph Fiennes|Tony Revolori|F. Murray Abraham|...       Wes Anderson   \n",
       "370   Leonardo DiCaprio|Joseph Gordon-Levitt|Ellen P...  Christopher Nolan   \n",
       "599   Christian Bale|Michael Caine|Heath Ledger|Aaro...  Christopher Nolan   \n",
       "872   Adrien Brody|Thomas Kretschmann|Frank Finlay|M...     Roman Polanski   \n",
       "1081  Elijah Wood|Ian McKellen|Viggo Mortensen|Liv T...      Peter Jackson   \n",
       "1183  Leonardo DiCaprio|Jonah Hill|Margot Robbie|Kyl...    Martin Scorsese   \n",
       "1191  Chiwetel Ejiofor|Michael Fassbender|Lupita Nyo...      Steve McQueen   \n",
       "1800  Guy Pearce|Carrie-Anne Moss|Joe Pantoliano|Mar...  Christopher Nolan   \n",
       "\n",
       "                                                tagline  \\\n",
       "9              Meet the little voices inside your head.   \n",
       "34                             Love knows no boundaries   \n",
       "118   Mankind was born on Earth. It was never meant ...   \n",
       "119                         All heroes start somewhere.   \n",
       "125   The true enigma was the man who cracked the code.   \n",
       "128         You don't know what you've got 'til it's...   \n",
       "138             A perfect holiday without leaving home.   \n",
       "370                Your mind is the scene of the crime.   \n",
       "599                                     Why So Serious?   \n",
       "872   Music was his passion. Survival was his master...   \n",
       "1081                    The eye of the enemy is moving.   \n",
       "1183                                EARN. SPEND. PARTY.   \n",
       "1191    The extraordinary true story of Solomon Northup   \n",
       "1800                  Some memories are best forgotten.   \n",
       "\n",
       "                                               overview  runtime  \\\n",
       "9     Growing up can be a bumpy road, and it's no ex...       94   \n",
       "34    Jack is a young boy of 5 years old who has liv...      117   \n",
       "118   Interstellar chronicles the adventures of a gr...      169   \n",
       "119   Light years from Earth, 26 years after being a...      121   \n",
       "125   Based on the real life story of legendary cryp...      113   \n",
       "128   With his wife's disappearance having become th...      145   \n",
       "138   The Grand Budapest Hotel tells of a legendary ...       99   \n",
       "370   Cobb, a skilled thief who commits corporate es...      148   \n",
       "599   Batman raises the stakes in his war on crime. ...      152   \n",
       "872   The Pianist is a film adapted from the biograp...      150   \n",
       "1081  Aragorn is revealed as the heir to the ancient...      201   \n",
       "1183  A New York stockbroker refuses to cooperate in...      180   \n",
       "1191  In the pre-Civil War United States, Solomon No...      134   \n",
       "1800  Suffering short-term memory loss after a head ...      113   \n",
       "\n",
       "                                                 genres  \\\n",
       "9                               Comedy|Animation|Family   \n",
       "34                                       Drama|Thriller   \n",
       "118                     Adventure|Drama|Science Fiction   \n",
       "119                    Action|Science Fiction|Adventure   \n",
       "125                          History|Drama|Thriller|War   \n",
       "128                              Mystery|Thriller|Drama   \n",
       "138                                        Comedy|Drama   \n",
       "370   Action|Thriller|Science Fiction|Mystery|Adventure   \n",
       "599                         Drama|Action|Crime|Thriller   \n",
       "872                                           Drama|War   \n",
       "1081                           Adventure|Fantasy|Action   \n",
       "1183                                 Crime|Drama|Comedy   \n",
       "1191                                      Drama|History   \n",
       "1800                                   Mystery|Thriller   \n",
       "\n",
       "                                   production_companies release_date  \\\n",
       "9     Walt Disney Pictures|Pixar Animation Studios|W...     6/9/2015   \n",
       "34    Element Pictures|No Trace Camping|A24|Duperele...   10/16/2015   \n",
       "118   Paramount Pictures|Legendary Pictures|Warner B...    11/5/2014   \n",
       "119   Marvel Studios|Moving Picture Company (MPC)|Bu...    7/30/2014   \n",
       "125              Black Bear Pictures|Bristol Automotive   11/14/2014   \n",
       "128   Twentieth Century Fox Film Corporation|Regency...    10/1/2014   \n",
       "138   Fox Searchlight Pictures|Scott Rudin Productio...    2/26/2014   \n",
       "370             Legendary Pictures|Warner Bros.|Syncopy    7/14/2010   \n",
       "599   DC Comics|Legendary Pictures|Warner Bros.|Syncopy    7/16/2008   \n",
       "872   Bac Films|Canal+Polska|Heritage Films|Studio B...    9/24/2002   \n",
       "1081                      WingNut Films|New Line Cinema    12/1/2003   \n",
       "1183  Paramount Pictures|Appian Way|EMJAG Production...   12/25/2013   \n",
       "1191  Plan B Entertainment|Regency Enterprises|River...   10/18/2013   \n",
       "1800  Summit Entertainment|Newmarket Capital Group|T...   10/11/2000   \n",
       "\n",
       "      vote_average  release_year      profit  \n",
       "9              8.0          2015   678708609  \n",
       "34             8.0          2015    29401758  \n",
       "118            8.0          2014   456752480  \n",
       "119            7.9          2014   603312399  \n",
       "125            8.0          2014   219555708  \n",
       "128            7.9          2014   308330363  \n",
       "138            7.9          2014   144600318  \n",
       "370            7.9          2010   665500000  \n",
       "599            8.1          2008   816921825  \n",
       "872            7.9          2002    85072577  \n",
       "1081           7.9          2003  1024888979  \n",
       "1183           7.9          2013   292000694  \n",
       "1191           7.9          2013   167000000  \n",
       "1800           7.9          2000    30723096  "
      ]
     },
     "execution_count": 141,
     "metadata": {},
     "output_type": "execute_result"
    }
   ],
   "source": [
    "data[data['vote_average'] > data['vote_average'].quantile(0.99)]"
   ]
  },
  {
   "cell_type": "markdown",
   "metadata": {
    "colab_type": "text",
    "id": "MdXsUXbCVqAV"
   },
   "source": [
    "# 27. Какие актеры чаще всего снимаются в одном фильме вместе?\n"
   ]
  },
  {
   "cell_type": "code",
   "execution_count": 142,
   "metadata": {},
   "outputs": [],
   "source": [
    "answers['27'] = '5. Daniel Radcliffe & Rupert Grint'\n",
    "# +"
   ]
  },
  {
   "cell_type": "code",
   "execution_count": 143,
   "metadata": {},
   "outputs": [
    {
     "data": {
      "text/plain": [
       "[(('Daniel Radcliffe', 'Rupert Grint'), 8),\n",
       " (('Daniel Radcliffe', 'Emma Watson'), 8),\n",
       " (('Rupert Grint', 'Emma Watson'), 7),\n",
       " (('Ben Stiller', 'Owen Wilson'), 6),\n",
       " (('Johnny Depp', 'Helena Bonham Carter'), 6),\n",
       " (('Adam Sandler', 'Kevin James'), 5),\n",
       " (('Hugh Jackman', 'Ian McKellen'), 5),\n",
       " (('Kristen Stewart', 'Robert Pattinson'), 5),\n",
       " (('Kristen Stewart', 'Taylor Lautner'), 5),\n",
       " (('Robert Pattinson', 'Taylor Lautner'), 5),\n",
       " (('Jennifer Lawrence', 'Josh Hutcherson'), 4),\n",
       " (('Jennifer Lawrence', 'Liam Hemsworth'), 4),\n",
       " (('Jennifer Lawrence', 'Woody Harrelson'), 4),\n",
       " (('Josh Hutcherson', 'Liam Hemsworth'), 4),\n",
       " (('Josh Hutcherson', 'Woody Harrelson'), 4),\n",
       " (('Liam Hemsworth', 'Woody Harrelson'), 4),\n",
       " (('Tobin Bell', 'Costas Mandylor'), 4),\n",
       " (('Tobin Bell', 'Betsy Russell'), 4),\n",
       " (('Costas Mandylor', 'Betsy Russell'), 4),\n",
       " (('Vin Diesel', 'Jordana Brewster'), 4),\n",
       " (('Paul Walker', 'Jordana Brewster'), 4),\n",
       " (('Mike Myers', 'Eddie Murphy'), 4),\n",
       " (('Mike Myers', 'Cameron Diaz'), 4),\n",
       " (('Eddie Murphy', 'Cameron Diaz'), 4),\n",
       " (('Kristen Stewart', 'Peter Facinelli'), 4),\n",
       " (('Robert Pattinson', 'Peter Facinelli'), 4),\n",
       " (('Taylor Lautner', 'Peter Facinelli'), 4),\n",
       " (('George Clooney', 'Brad Pitt'), 4),\n",
       " (('Hugh Jackman', 'Halle Berry'), 4),\n",
       " (('Christian Bale', 'Michael Caine'), 4),\n",
       " (('Vin Diesel', 'Paul Walker'), 3),\n",
       " (('Vin Diesel', 'Michelle Rodriguez'), 3),\n",
       " (('Vin Diesel', 'Dwayne Johnson'), 3),\n",
       " (('Paul Walker', 'Michelle Rodriguez'), 3),\n",
       " (('Paul Walker', 'Dwayne Johnson'), 3),\n",
       " (('Robert Downey Jr.', 'Mark Ruffalo'), 3),\n",
       " (('Robert Downey Jr.', 'Scarlett Johansson'), 3),\n",
       " (('Chris Evans', 'Scarlett Johansson'), 3),\n",
       " (('Liam Neeson', 'Maggie Grace'), 3),\n",
       " (('Liam Neeson', 'Famke Janssen'), 3),\n",
       " (('Jennifer Lawrence', 'Elizabeth Banks'), 3),\n",
       " (('Josh Hutcherson', 'Elizabeth Banks'), 3),\n",
       " (('Liam Hemsworth', 'Elizabeth Banks'), 3),\n",
       " (('Woody Harrelson', 'Elizabeth Banks'), 3),\n",
       " (('Tom Cruise', 'Ving Rhames'), 3),\n",
       " (('Mark Wahlberg', 'Giovanni Ribisi'), 3),\n",
       " (('Johnny Depp', 'Paul Bettany'), 3),\n",
       " (('Adam Sandler', 'Steve Buscemi'), 3),\n",
       " (('Martin Freeman', 'Richard Armitage'), 3),\n",
       " (('Ian McKellen', 'Richard Armitage'), 3),\n",
       " (('Ben Stiller', 'Robin Williams'), 3),\n",
       " (('Patrick Stewart', 'Ian McKellen'), 3),\n",
       " (('Sylvester Stallone', 'Jason Statham'), 3),\n",
       " (('Sylvester Stallone', 'Arnold Schwarzenegger'), 3),\n",
       " (('Russell Crowe', 'Jennifer Connelly'), 3),\n",
       " (('Bradley Cooper', 'Ed Helms'), 3),\n",
       " (('Bradley Cooper', 'Zach Galifianakis'), 3),\n",
       " (('Bradley Cooper', 'Justin Bartha'), 3),\n",
       " (('Ed Helms', 'Zach Galifianakis'), 3),\n",
       " (('Ed Helms', 'Justin Bartha'), 3),\n",
       " (('Zach Galifianakis', 'Justin Bartha'), 3),\n",
       " (('Kristen Stewart', 'Ashley Greene'), 3),\n",
       " (('Robert Pattinson', 'Ashley Greene'), 3),\n",
       " (('Taylor Lautner', 'Ashley Greene'), 3),\n",
       " (('Bradley Cooper', 'Ken Jeong'), 3),\n",
       " (('David Cross', 'Justin Long'), 3),\n",
       " (('Jason Lee', 'Justin Long'), 3),\n",
       " (('Paul Rudd', 'Jason Segel'), 3),\n",
       " (('Shia LaBeouf', 'Josh Duhamel'), 3),\n",
       " (('Robert Downey Jr.', 'Gwyneth Paltrow'), 3),\n",
       " (('Daniel Radcliffe', 'Ralph Fiennes'), 3),\n",
       " (('Emma Watson', 'Ralph Fiennes'), 3),\n",
       " (('Rupert Grint', 'Ralph Fiennes'), 3),\n",
       " (('Skandar Keynes', 'Georgie Henley'), 3),\n",
       " (('Mike Myers', 'Antonio Banderas'), 3),\n",
       " (('Mike Myers', 'Julie Andrews'), 3),\n",
       " (('Eddie Murphy', 'Antonio Banderas'), 3),\n",
       " (('Eddie Murphy', 'Julie Andrews'), 3),\n",
       " (('Cameron Diaz', 'Antonio Banderas'), 3),\n",
       " (('Cameron Diaz', 'Julie Andrews'), 3),\n",
       " (('Steve Carell', 'Paul Rudd'), 3),\n",
       " (('Elijah Wood', 'Ian McKellen'), 3),\n",
       " (('Elijah Wood', 'Viggo Mortensen'), 3),\n",
       " (('Elijah Wood', 'Liv Tyler'), 3),\n",
       " (('Elijah Wood', 'Orlando Bloom'), 3),\n",
       " (('Ian McKellen', 'Viggo Mortensen'), 3),\n",
       " (('Ian McKellen', 'Liv Tyler'), 3),\n",
       " (('Ian McKellen', 'Orlando Bloom'), 3),\n",
       " (('Viggo Mortensen', 'Liv Tyler'), 3),\n",
       " (('Viggo Mortensen', 'Orlando Bloom'), 3),\n",
       " (('Liv Tyler', 'Orlando Bloom'), 3),\n",
       " (('George Clooney', 'Matt Damon'), 3),\n",
       " (('Brad Pitt', 'Julia Roberts'), 3),\n",
       " (('Jason Biggs', 'Thomas Ian Nicholas'), 3),\n",
       " (('Jason Biggs', 'Seann William Scott'), 3),\n",
       " (('Alexa PenaVega', 'Daryl Sabara'), 3),\n",
       " (('Antonio Banderas', 'Carla Gugino'), 3),\n",
       " (('Christian Bale', 'Gary Oldman'), 3),\n",
       " (('Michael Caine', 'Gary Oldman'), 3),\n",
       " (('Daniel Craig', 'Judi Dench'), 3),\n",
       " (('Jack Black', 'Angelina Jolie'), 3),\n",
       " (('Ben Stiller', 'David Schwimmer'), 3),\n",
       " (('Ben Stiller', 'Chris Rock'), 3),\n",
       " (('Ron Perlman', 'John Hurt'), 3),\n",
       " (('Hayden Christensen', 'Samuel L. Jackson'), 3),\n",
       " (('Jason Statham', 'FranÃ§ois BerlÃ©and'), 3),\n",
       " (('John Cho', 'Kal Penn'), 3),\n",
       " (('Johnny Depp', 'Geoffrey Rush'), 3),\n",
       " (('Johnny Depp', 'Bill Nighy'), 3),\n",
       " (('Ray Romano', 'Denis Leary'), 3),\n",
       " (('John Leguizamo', 'Denis Leary'), 3),\n",
       " (('Tobey Maguire', 'Kirsten Dunst'), 3),\n",
       " (('Tobey Maguire', 'James Franco'), 3),\n",
       " (('Kirsten Dunst', 'James Franco'), 3),\n",
       " (('Tim Allen', 'Spencer Breslin'), 3),\n",
       " (('Denzel Washington', 'Kimberly Elise'), 3),\n",
       " (('Ice Cube', 'Mike Epps'), 3),\n",
       " (('Johnny Depp', 'Orlando Bloom'), 3),\n",
       " (('Johnny Depp', 'Keira Knightley'), 3),\n",
       " (('Orlando Bloom', 'Keira Knightley'), 3),\n",
       " (('Patrick Stewart', 'Famke Janssen'), 3),\n",
       " (('Hugh Jackman', 'Famke Janssen'), 3),\n",
       " (('Ian McKellen', 'Famke Janssen'), 3),\n",
       " (('Halle Berry', 'Famke Janssen'), 3),\n",
       " (('Owen Wilson', 'Vince Vaughn'), 3),\n",
       " (('Bruce Willis', 'Kevin Pollak'), 3),\n",
       " (('Shailene Woodley', 'Theo James'), 2),\n",
       " (('Shailene Woodley', 'Kate Winslet'), 2),\n",
       " (('Shailene Woodley', 'Ansel Elgort'), 2),\n",
       " (('Shailene Woodley', 'Miles Teller'), 2),\n",
       " (('Theo James', 'Kate Winslet'), 2),\n",
       " (('Theo James', 'Miles Teller'), 2),\n",
       " (('Kate Winslet', 'Miles Teller'), 2),\n",
       " (('Leonardo DiCaprio', 'Tom Hardy'), 2),\n",
       " (('Daniel Craig', 'Ralph Fiennes'), 2),\n",
       " (('Robert Downey Jr.', 'Chris Hemsworth'), 2),\n",
       " (('Robert Downey Jr.', 'Chris Evans'), 2),\n",
       " (('Chris Hemsworth', 'Scarlett Johansson'), 2),\n",
       " (('Mark Ruffalo', 'Scarlett Johansson'), 2),\n",
       " (('Maggie Grace', 'Famke Janssen'), 2),\n",
       " (('Dwayne Johnson', 'Carla Gugino'), 2),\n",
       " (('Christian Bale', 'Melissa Leo'), 2),\n",
       " (('Steve Carell', 'Ryan Gosling'), 2),\n",
       " (('Tom Cruise', 'Jeremy Renner'), 2),\n",
       " (('Tom Cruise', 'Simon Pegg'), 2),\n",
       " (('Jeremy Renner', 'Simon Pegg'), 2),\n",
       " (('Mark Wahlberg', 'Seth MacFarlane'), 2),\n",
       " (('Seth MacFarlane', 'Giovanni Ribisi'), 2),\n",
       " ((\"Dylan O'Brien\", 'Kaya Scodelario'), 2),\n",
       " (('Anna Kendrick', 'Rebel Wilson'), 2),\n",
       " (('Anna Kendrick', 'Brittany Snow'), 2),\n",
       " (('Anna Kendrick', 'Skylar Astin'), 2),\n",
       " (('Liam Neeson', 'Boyd Holbrook'), 2),\n",
       " (('Edgar RamÃ\\xadrez', 'Delroy Lindo'), 2),\n",
       " (('Bradley Cooper', 'Sienna Miller'), 2),\n",
       " (('Miles Teller', 'Michael B. Jordan'), 2),\n",
       " (('Rose Byrne', 'Bobby Cannavale'), 2),\n",
       " (('Hugh Jackman', 'Amanda Seyfried'), 2),\n",
       " (('Joseph Gordon-Levitt', 'Seth Rogen'), 2),\n",
       " (('Seth Rogen', 'Lizzy Caplan'), 2),\n",
       " (('Adam Sandler', 'Andy Samberg'), 2),\n",
       " (('Adam Sandler', 'Selena Gomez'), 2),\n",
       " (('Will Ferrell', 'Mark Wahlberg'), 2),\n",
       " (('Kevin James', 'Raini Rodriguez'), 2),\n",
       " (('Tina Fey', 'Amy Poehler'), 2),\n",
       " (('Tom Kenny', 'Bill Fagerbakke'), 2),\n",
       " (('Tom Kenny', 'Rodger Bumpass'), 2),\n",
       " (('Tom Kenny', 'Clancy Brown'), 2),\n",
       " (('Tom Kenny', 'Carolyn Lawrence'), 2),\n",
       " (('Bill Fagerbakke', 'Carolyn Lawrence'), 2),\n",
       " (('Rodger Bumpass', 'Carolyn Lawrence'), 2),\n",
       " (('Clancy Brown', 'Carolyn Lawrence'), 2),\n",
       " (('Chris Evans', 'Sebastian Stan'), 2),\n",
       " (('Scarlett Johansson', 'Samuel L. Jackson'), 2),\n",
       " (('Martin Freeman', 'Ian McKellen'), 2),\n",
       " (('Martin Freeman', 'Ken Stott'), 2),\n",
       " (('Martin Freeman', 'Graham McTavish'), 2),\n",
       " (('Ian McKellen', 'Ken Stott'), 2),\n",
       " (('Ian McKellen', 'Graham McTavish'), 2),\n",
       " (('Richard Armitage', 'Ken Stott'), 2),\n",
       " (('Richard Armitage', 'Graham McTavish'), 2),\n",
       " (('Ken Stott', 'Graham McTavish'), 2),\n",
       " (('Hugh Jackman', 'Patrick Stewart'), 2),\n",
       " (('James McAvoy', 'Patrick Stewart'), 2),\n",
       " (('James McAvoy', 'Michael Fassbender'), 2),\n",
       " (('Megan Fox', 'Will Arnett'), 2),\n",
       " (('Mark Wahlberg', 'Stanley Tucci'), 2),\n",
       " (('Jason Bateman', 'Jason Sudeikis'), 2),\n",
       " (('Jason Bateman', 'Charlie Day'), 2),\n",
       " (('Jason Bateman', 'Jennifer Aniston'), 2),\n",
       " (('Andrew Garfield', 'Emma Stone'), 2),\n",
       " (('James Franco', 'Seth Rogen'), 2),\n",
       " (('James Franco', 'Lizzy Caplan'), 2),\n",
       " (('Jay Baruchel', 'Gerard Butler'), 2),\n",
       " (('Jay Baruchel', 'Jonah Hill'), 2),\n",
       " (('Gerard Butler', 'Jonah Hill'), 2),\n",
       " (('Jason Statham', 'Arnold Schwarzenegger'), 2),\n",
       " (('Meryl Streep', 'Emily Blunt'), 2),\n",
       " (('Lena Headey', 'David Wenham'), 2),\n",
       " (('Jonah Hill', 'Dave Franco'), 2),\n",
       " (('Channing Tatum', 'Dave Franco'), 2),\n",
       " (('Ben Whishaw', 'Michael Gambon'), 2),\n",
       " (('Russell Crowe', 'Logan Lerman'), 2),\n",
       " (('Zac Efron', 'Dave Franco'), 2),\n",
       " (('Ryan Guzman', 'Stephen Boss'), 2),\n",
       " (('Joaquin Phoenix', 'Reese Witherspoon'), 2),\n",
       " (('Jessica Alba', 'Josh Brolin'), 2),\n",
       " (('Jessica Alba', 'Rosario Dawson'), 2),\n",
       " (('Jesse Eisenberg', 'Anne Hathaway'), 2),\n",
       " (('Jesse Eisenberg', 'Leslie Mann'), 2),\n",
       " (('Anne Hathaway', 'Leslie Mann'), 2),\n",
       " (('George Clooney', 'Bill Murray'), 2),\n",
       " (('George Clooney', 'John Goodman'), 2),\n",
       " (('Kit Harington', 'Carrie-Anne Moss'), 2),\n",
       " (('Channing Tatum', 'Sienna Miller'), 2),\n",
       " (('Zac Efron', 'Imogen Poots'), 2),\n",
       " (('Michael Ealy', 'Regina Hall'), 2),\n",
       " (('Morgan Freeman', 'Ashley Judd'), 2),\n",
       " (('Morgan Freeman', 'Nathan Gamble'), 2),\n",
       " (('Morgan Freeman', 'Harry Connick Jr.'), 2),\n",
       " (('Ashley Judd', 'Nathan Gamble'), 2),\n",
       " (('Ashley Judd', 'Harry Connick Jr.'), 2),\n",
       " (('Michael Sheen', 'Shane Brolly'), 2),\n",
       " (('Chris Pine', 'Zachary Quinto'), 2),\n",
       " (('Robert Downey Jr.', 'Jude Law'), 2),\n",
       " (('John Cusack', 'Amanda Peet'), 2),\n",
       " (('Jennifer Connelly', 'Christopher Plummer'), 2),\n",
       " (('Jesse Eisenberg', 'Woody Harrelson'), 2),\n",
       " (('Kristen Stewart', 'Billy Burke'), 2),\n",
       " (('Robert Pattinson', 'Billy Burke'), 2),\n",
       " (('Bill Hader', 'Anna Faris'), 2),\n",
       " (('Bill Hader', 'James Caan'), 2),\n",
       " (('Anna Faris', 'James Caan'), 2),\n",
       " (('Susan Sarandon', 'Stanley Tucci'), 2),\n",
       " (('Jason Statham', 'Amy Smart'), 2),\n",
       " (('Jason Statham', 'Dwight Yoakam'), 2),\n",
       " (('Jason Statham', 'Efren Ramirez'), 2),\n",
       " (('Amy Smart', 'Dwight Yoakam'), 2),\n",
       " (('Amy Smart', 'Efren Ramirez'), 2),\n",
       " (('Vince Vaughn', 'Jon Favreau'), 2),\n",
       " (('Jason Bateman', 'Jon Favreau'), 2),\n",
       " (('Charlize Theron', 'Guy Pearce'), 2),\n",
       " (('Seth Rogen', 'Paul Rudd'), 2),\n",
       " (('Reese Witherspoon', 'Paul Rudd'), 2),\n",
       " (('Meryl Streep', 'Stanley Tucci'), 2),\n",
       " (('Johnny Depp', 'Giovanni Ribisi'), 2),\n",
       " (('Billy Crudup', 'Marion Cotillard'), 2),\n",
       " (('Matt Damon', 'Scott Bakula'), 2),\n",
       " (('Tobin Bell', 'Mark Rolston'), 2),\n",
       " (('Costas Mandylor', 'Mark Rolston'), 2),\n",
       " (('Betsy Russell', 'Mark Rolston'), 2),\n",
       " (('Shia LaBeouf', 'Megan Fox'), 2),\n",
       " (('Shia LaBeouf', 'Tyrese Gibson'), 2),\n",
       " (('Megan Fox', 'Tyrese Gibson'), 2),\n",
       " (('Josh Duhamel', 'Tyrese Gibson'), 2),\n",
       " (('Jeff Bridges', 'Kevin Spacey'), 2),\n",
       " (('Dwayne Johnson', 'Seann William Scott'), 2),\n",
       " (('Nicolas Cage', 'Eva Mendes'), 2),\n",
       " (('Seth Rogen', 'Leslie Mann'), 2),\n",
       " (('Naomi Watts', 'Armin Mueller-Stahl'), 2),\n",
       " (('Clive Owen', 'Paul Giamatti'), 2),\n",
       " (('Julia Roberts', 'Paul Giamatti'), 2),\n",
       " (('Jason Bateman', 'Kristen Wiig'), 2),\n",
       " (('Robert Downey Jr.', 'Jamie Foxx'), 2),\n",
       " (('Michael Caine', 'Emily Mortimer'), 2),\n",
       " (('Danny Huston', 'Lynn Collins'), 2),\n",
       " (('Robert Downey Jr.', 'Don Cheadle'), 2),\n",
       " (('Gwyneth Paltrow', 'Don Cheadle'), 2),\n",
       " (('Steve Carell', 'Russell Brand'), 2),\n",
       " (('Steve Carell', 'Will Arnett'), 2),\n",
       " (('Jason Segel', 'Russell Brand'), 2),\n",
       " (('Sylvester Stallone', 'Dolph Lundgren'), 2),\n",
       " (('Jason Statham', 'Dolph Lundgren'), 2),\n",
       " (('Russell Crowe', 'Mark Strong'), 2),\n",
       " (('Sam Worthington', 'Liam Neeson'), 2),\n",
       " (('Sam Worthington', 'Ralph Fiennes'), 2),\n",
       " (('Liam Neeson', 'Ralph Fiennes'), 2),\n",
       " (('Robert De Niro', 'Owen Wilson'), 2),\n",
       " (('Robert De Niro', 'Dustin Hoffman'), 2),\n",
       " (('Robert De Niro', 'Barbra Streisand'), 2),\n",
       " (('Ben Stiller', 'Dustin Hoffman'), 2),\n",
       " (('Ben Stiller', 'Barbra Streisand'), 2),\n",
       " (('Dustin Hoffman', 'Barbra Streisand'), 2),\n",
       " (('Logan Lerman', 'Brandon T. Jackson'), 2),\n",
       " (('Logan Lerman', 'Alexandra Daddario'), 2),\n",
       " (('Channing Tatum', 'Richard Jenkins'), 2),\n",
       " (('Danny Trejo', 'Michelle Rodriguez'), 2),\n",
       " (('Adam Sandler', 'Salma Hayek'), 2),\n",
       " (('Ashley Greene', 'Peter Facinelli'), 2),\n",
       " (('Brad Pitt', 'Jonah Hill'), 2),\n",
       " (('Mark Wahlberg', 'Dwayne Johnson'), 2),\n",
       " (('Helena Bonham Carter', 'Timothy Spall'), 2),\n",
       " (('Jake Gyllenhaal', 'Anne Hathaway'), 2),\n",
       " (('Tom Cruise', 'Cameron Diaz'), 2),\n",
       " (('Matt Damon', 'Greg Kinnear'), 2),\n",
       " (('Emily Blunt', 'Jason Segel'), 2),\n",
       " (('Jack Black', 'Amanda Peet'), 2),\n",
       " (('Christian Bale', 'Amy Adams'), 2),\n",
       " (('Katherine Heigl', 'Ashton Kutcher'), 2),\n",
       " (('Sarah Jessica Parker', 'Kristin Davis'), 2),\n",
       " (('Sarah Jessica Parker', 'Cynthia Nixon'), 2),\n",
       " (('Sarah Jessica Parker', 'Kim Cattrall'), 2),\n",
       " (('Sarah Jessica Parker', 'Chris Noth'), 2),\n",
       " (('Kristin Davis', 'Chris Noth'), 2),\n",
       " (('Cynthia Nixon', 'Chris Noth'), 2),\n",
       " (('Kim Cattrall', 'Chris Noth'), 2),\n",
       " (('Robert De Niro', 'Edward Norton'), 2),\n",
       " (('Zachary Gordon', 'Robert Capron'), 2),\n",
       " (('Zachary Gordon', 'Steve Zahn'), 2),\n",
       " (('Zachary Gordon', 'Rachael Harris'), 2),\n",
       " (('Robert Capron', 'Steve Zahn'), 2),\n",
       " (('Steve Zahn', 'Rachael Harris'), 2),\n",
       " (('Kristen Wiig', 'Maya Rudolph'), 2),\n",
       " (('Tyler Perry', 'Janet Jackson'), 2),\n",
       " (('Tyler Perry', 'Jill Scott'), 2),\n",
       " (('Tyler Perry', 'Malik Yoba'), 2),\n",
       " (('Janet Jackson', 'Malik Yoba'), 2),\n",
       " (('Jill Scott', 'Malik Yoba'), 2),\n",
       " (('Milla Jovovich', 'Ali Larter'), 2),\n",
       " (('John Goodman', 'Steve Buscemi'), 2),\n",
       " (('Billy Crystal', 'Steve Buscemi'), 2),\n",
       " (('RenÃ©e Zellweger', 'Colin Firth'), 2),\n",
       " (('RenÃ©e Zellweger', 'Hugh Grant'), 2),\n",
       " (('RenÃ©e Zellweger', 'Gemma Jones'), 2),\n",
       " (('RenÃ©e Zellweger', 'Jim Broadbent'), 2),\n",
       " (('Colin Firth', 'Gemma Jones'), 2),\n",
       " (('Colin Firth', 'Jim Broadbent'), 2),\n",
       " (('Hugh Grant', 'Gemma Jones'), 2),\n",
       " (('Hugh Grant', 'Jim Broadbent'), 2),\n",
       " (('George Clooney', 'Andy GarcÃ\\xada'), 2),\n",
       " (('George Clooney', 'Julia Roberts'), 2),\n",
       " (('Brad Pitt', 'Matt Damon'), 2),\n",
       " (('Brad Pitt', 'Andy GarcÃ\\xada'), 2),\n",
       " (('Brendan Fraser', 'John Hannah'), 2),\n",
       " (('Angelina Jolie', 'Noah Taylor'), 2),\n",
       " (('Russell Crowe', 'Paul Bettany'), 2),\n",
       " (('Jason Biggs', 'Chris Klein'), 2),\n",
       " (('Jason Biggs', 'Eddie Kaye Thomas'), 2),\n",
       " (('Seann William Scott', 'Eddie Kaye Thomas'), 2),\n",
       " (('Anne Hathaway', 'Julie Andrews'), 2),\n",
       " (('Anne Hathaway', 'Heather Matarazzo'), 2),\n",
       " (('Anne Hathaway', 'HÃ©ctor Elizondo'), 2),\n",
       " (('Julie Andrews', 'Heather Matarazzo'), 2),\n",
       " (('Julie Andrews', 'HÃ©ctor Elizondo'), 2),\n",
       " (('Ewan McGregor', 'Jim Broadbent'), 2),\n",
       " (('Johnny Depp', 'PenÃ©lope Cruz'), 2),\n",
       " (('Jude Law', 'Rachel Weisz'), 2),\n",
       " (('Heath Ledger', 'Shannyn Sossamon'), 2),\n",
       " (('Marlon Wayans', 'Shawn Wayans'), 2),\n",
       " (('Chris Tucker', 'Jackie Chan'), 2),\n",
       " (('Seth Green', 'Breckin Meyer'), 2),\n",
       " (('Breckin Meyer', 'Amy Smart'), 2),\n",
       " (('Brad Pitt', 'James Gandolfini'), 2),\n",
       " (('Anthony Hopkins', 'Hope Davis'), 2),\n",
       " (('Robert De Niro', 'Charlize Theron'), 2),\n",
       " (('DMX', 'Anthony Anderson'), 2),\n",
       " (('Mike Epps', 'Anna Maria Horsford'), 2),\n",
       " (('Jason Biggs', 'Amanda Detmer'), 2),\n",
       " (('Paul Walker', 'Vin Diesel'), 2),\n",
       " (('John Travolta', 'Vince Vaughn'), 2),\n",
       " (('Freddie Prinze Jr.', 'Matthew Lillard'), 2),\n",
       " (('Cary Elwes', 'Joanna Lumley'), 2),\n",
       " (('Jack Black', 'Dustin Hoffman'), 2),\n",
       " (('Jack Black', 'Jackie Chan'), 2),\n",
       " (('Dustin Hoffman', 'Jackie Chan'), 2),\n",
       " (('Angelina Jolie', 'Jackie Chan'), 2),\n",
       " (('Colin Firth', 'Stellan SkarsgÃ¥rd'), 2),\n",
       " (('Ben Stiller', 'Jada Pinkett Smith'), 2),\n",
       " (('David Schwimmer', 'Chris Rock'), 2),\n",
       " (('Ron Perlman', 'Selma Blair'), 2),\n",
       " (('Ron Perlman', 'Jeffrey Tambor'), 2),\n",
       " (('Selma Blair', 'Jeffrey Tambor'), 2),\n",
       " (('Selma Blair', 'John Hurt'), 2),\n",
       " (('William Moseley', 'Anna Popplewell'), 2),\n",
       " (('William Moseley', 'Skandar Keynes'), 2),\n",
       " (('William Moseley', 'Georgie Henley'), 2),\n",
       " (('Anna Popplewell', 'Skandar Keynes'), 2),\n",
       " (('Anna Popplewell', 'Georgie Henley'), 2),\n",
       " (('Hugh Jackman', 'David Wenham'), 2),\n",
       " (('George Clooney', 'Tilda Swinton'), 2),\n",
       " (('George Clooney', 'Richard Jenkins'), 2),\n",
       " (('Will Ferrell', 'John C. Reilly'), 2),\n",
       " (('Will Ferrell', 'Mary Steenburgen'), 2),\n",
       " (('Seth Rogen', 'Danny McBride'), 2),\n",
       " (('James Franco', 'Danny McBride'), 2),\n",
       " (('Mark Wahlberg', 'Mila Kunis'), 2),\n",
       " (('Paul Rudd', 'Elizabeth Banks'), 2),\n",
       " (('Angelina Jolie', 'John Malkovich'), 2),\n",
       " (('John Cho', 'Neil Patrick Harris'), 2),\n",
       " (('Kal Penn', 'Neil Patrick Harris'), 2),\n",
       " (('Tobin Bell', 'Scott Patterson'), 2),\n",
       " (('Scott Patterson', 'Betsy Russell'), 2),\n",
       " (('Javier Bardem', 'PenÃ©lope Cruz'), 2),\n",
       " (('Steve Carell', 'Seth Rogen'), 2),\n",
       " (('Robert De Niro', 'Carla Gugino'), 2),\n",
       " (('Adam Sandler', 'John Turturro'), 2),\n",
       " (('Sean Penn', 'Josh Brolin'), 2),\n",
       " (('Cheryl Hines', 'Jeff Daniels'), 2),\n",
       " (('Bruce Willis', 'Robin Wright'), 2),\n",
       " (('Chris Hemsworth', 'Natalie Portman'), 2),\n",
       " (('Chris Hemsworth', 'Tom Hiddleston'), 2),\n",
       " (('Chris Hemsworth', 'Anthony Hopkins'), 2),\n",
       " (('Natalie Portman', 'Tom Hiddleston'), 2),\n",
       " (('Natalie Portman', 'Anthony Hopkins'), 2),\n",
       " (('Tom Hiddleston', 'Anthony Hopkins'), 2),\n",
       " (('Ryan Gosling', 'Emma Stone'), 2),\n",
       " (('Ryan Gosling', 'Marisa Tomei'), 2),\n",
       " (('Bradley Cooper', 'Robert De Niro'), 2),\n",
       " (('Ed Helms', 'Ken Jeong'), 2),\n",
       " (('Zach Galifianakis', 'Ken Jeong'), 2),\n",
       " (('Justin Bartha', 'Ken Jeong'), 2),\n",
       " (('Asa Butterfield', 'Ben Kingsley'), 2),\n",
       " (('Matthew McConaughey', 'William H. Macy'), 2),\n",
       " (('Jim Cummings', 'Bud Luckey'), 2),\n",
       " (('Jim Cummings', 'Craig Ferguson'), 2),\n",
       " (('Tom Hanks', 'Julia Roberts'), 2),\n",
       " (('Antonio Banderas', 'Salma Hayek'), 2),\n",
       " (('Kate Winslet', 'Jude Law'), 2),\n",
       " (('Robert De Niro', 'Katherine Heigl'), 2),\n",
       " (('Robin Williams', 'Johnny A. Sanchez'), 2),\n",
       " (('David Arquette', 'Neve Campbell'), 2),\n",
       " (('David Arquette', 'Courteney Cox'), 2),\n",
       " (('Neve Campbell', 'Courteney Cox'), 2),\n",
       " (('Devon Bostick', 'Rachael Harris'), 2),\n",
       " (('Devon Bostick', 'Steve Zahn'), 2),\n",
       " (('Jason Lee', 'David Cross'), 2),\n",
       " (('Neil Patrick Harris', 'Hank Azaria'), 2),\n",
       " (('Cate Blanchett', 'Tom Hollander'), 2),\n",
       " (('James McAvoy', 'Maggie Smith'), 2),\n",
       " (('James McAvoy', 'Julie Walters'), 2),\n",
       " (('Philip Seymour Hoffman', 'Marisa Tomei'), 2),\n",
       " (('Katie Featherston', 'Sprague Grayden'), 2),\n",
       " (('Viggo Mortensen', 'Vincent Cassel'), 2),\n",
       " (('Paul Walker', 'Tyrese Gibson'), 2),\n",
       " (('Dwayne Johnson', 'Jordana Brewster'), 2),\n",
       " (('Ray Romano', 'John Leguizamo'), 2),\n",
       " (('Matt Damon', 'Franka Potente'), 2),\n",
       " (('Matt Damon', 'Chris Cooper'), 2),\n",
       " (('Matt Damon', 'Brian Cox'), 2),\n",
       " (('Franka Potente', 'Brian Cox'), 2),\n",
       " (('Milla Jovovich', 'Michelle Rodriguez'), 2),\n",
       " (('Ewan McGregor', 'Natalie Portman'), 2),\n",
       " (('Ewan McGregor', 'Hayden Christensen'), 2),\n",
       " (('Ewan McGregor', 'Ian McDiarmid'), 2),\n",
       " (('Ewan McGregor', 'Samuel L. Jackson'), 2),\n",
       " (('Natalie Portman', 'Hayden Christensen'), 2),\n",
       " (('Natalie Portman', 'Ian McDiarmid'), 2),\n",
       " (('Natalie Portman', 'Samuel L. Jackson'), 2),\n",
       " (('Hayden Christensen', 'Ian McDiarmid'), 2),\n",
       " (('Ian McDiarmid', 'Samuel L. Jackson'), 2),\n",
       " (('Leonardo DiCaprio', 'Martin Sheen'), 2),\n",
       " (('Tom Hanks', 'Amy Adams'), 2),\n",
       " (('Adrien Brody', 'Thomas Kretschmann'), 2),\n",
       " (('Jennifer Lopez', 'Stanley Tucci'), 2),\n",
       " (('Wesley Snipes', 'Kris Kristofferson'), 2),\n",
       " (('Johnny Knoxville', 'Bam Margera'), 2),\n",
       " (('Johnny Knoxville', 'Steve-O'), 2),\n",
       " (('Johnny Knoxville', 'Chris Pontius'), 2),\n",
       " (('Bam Margera', 'Steve-O'), 2),\n",
       " (('Bam Margera', 'Chris Pontius'), 2),\n",
       " (('Steve-O', 'Chris Pontius'), 2),\n",
       " (('Meryl Streep', 'Chris Cooper'), 2),\n",
       " (('Ice Cube', 'Cedric the Entertainer'), 2),\n",
       " (('Ice Cube', 'Sean Patrick Thomas'), 2),\n",
       " (('Cedric the Entertainer', 'Sean Patrick Thomas'), 2),\n",
       " (('Antonio Banderas', 'Alexa PenaVega'), 2),\n",
       " (('Antonio Banderas', 'Daryl Sabara'), 2),\n",
       " (('Carla Gugino', 'Alexa PenaVega'), 2),\n",
       " (('Carla Gugino', 'Daryl Sabara'), 2),\n",
       " (('Ice Cube', 'John Witherspoon'), 2),\n",
       " (('Ice Cube', 'Don Curry'), 2),\n",
       " (('Mike Epps', 'John Witherspoon'), 2),\n",
       " (('Mike Epps', 'Don Curry'), 2),\n",
       " (('John Witherspoon', 'Don Curry'), 2),\n",
       " (('Bruce Willis', 'Cole Hauser'), 2),\n",
       " (('Chris Rock', 'Kerry Washington'), 2),\n",
       " (('Jamie Foxx', 'Kerry Washington'), 2),\n",
       " (('Bradley Cooper', 'Jennifer Lawrence'), 2),\n",
       " (('John Leguizamo', 'Seann William Scott'), 2),\n",
       " (('Ray Romano', 'Seann William Scott'), 2),\n",
       " (('Denis Leary', 'Seann William Scott'), 2),\n",
       " (('Tommy Lee Jones', 'Josh Brolin'), 2),\n",
       " (('Kate Beckinsale', 'Bill Nighy'), 2),\n",
       " (('Jason Biggs', 'Alyson Hannigan'), 2),\n",
       " (('Alyson Hannigan', 'Seann William Scott'), 2),\n",
       " (('Alyson Hannigan', 'Thomas Ian Nicholas'), 2),\n",
       " (('Seann William Scott', 'Thomas Ian Nicholas'), 2),\n",
       " (('Adam Sandler', 'David Spade'), 2),\n",
       " (('Mark Wahlberg', 'Ben Foster'), 2),\n",
       " (('Ben Stiller', 'Sacha Baron Cohen'), 2),\n",
       " (('Joaquin Phoenix', 'Amy Adams'), 2),\n",
       " (('Philip Seymour Hoffman', 'Amy Adams'), 2),\n",
       " (('Leslie Mann', 'Jason Segel'), 2),\n",
       " (('Richard Gere', 'Susan Sarandon'), 2),\n",
       " (('Milla Jovovich', 'Sienna Guillory'), 2),\n",
       " (('Kate Beckinsale', 'Scott Speedman'), 2),\n",
       " (('Kate Beckinsale', 'Shane Brolly'), 2),\n",
       " (('Scott Speedman', 'Shane Brolly'), 2),\n",
       " (('Johnny Depp', 'Jack Davenport'), 2),\n",
       " (('Orlando Bloom', 'Jack Davenport'), 2),\n",
       " (('Keira Knightley', 'Jack Davenport'), 2),\n",
       " (('Uma Thurman', 'Daryl Hannah'), 2),\n",
       " (('Uma Thurman', 'David Carradine'), 2),\n",
       " (('Keanu Reeves', 'Laurence Fishburne'), 2),\n",
       " (('Keanu Reeves', 'Carrie-Anne Moss'), 2),\n",
       " (('Keanu Reeves', 'Hugo Weaving'), 2),\n",
       " (('Laurence Fishburne', 'Hugo Weaving'), 2),\n",
       " (('Carrie-Anne Moss', 'Hugo Weaving'), 2),\n",
       " (('Cameron Diaz', 'Drew Barrymore'), 2),\n",
       " (('Cameron Diaz', 'Lucy Liu'), 2),\n",
       " (('Ali Larter', 'Tony Todd'), 2),\n",
       " (('Steve Martin', 'Bonnie Hunt'), 2),\n",
       " (('Steve Martin', 'Tom Welling'), 2),\n",
       " (('Bonnie Hunt', 'Tom Welling'), 2),\n",
       " (('Jet Li', 'DMX'), 2),\n",
       " (('George Clooney', 'Catherine Zeta-Jones'), 2),\n",
       " (('Steve Martin', 'Eugene Levy'), 2),\n",
       " (('Frankie Muniz', 'Cynthia Stevenson'), 2),\n",
       " (('Patrick Stewart', 'Hugh Jackman'), 2),\n",
       " (('Patrick Stewart', 'Halle Berry'), 2),\n",
       " (('Ian McKellen', 'Halle Berry'), 2),\n",
       " (('Guy Pearce', 'Ben Kingsley'), 2),\n",
       " (('Vin Diesel', 'Karl Urban'), 2),\n",
       " (('Denzel Washington', 'Paula Patton'), 2),\n",
       " (('Matthew McConaughey', 'Steve Zahn'), 2),\n",
       " (('Adam Sandler', 'Chris Rock'), 2),\n",
       " (('Jonah Hill', 'Seth Rogen'), 2),\n",
       " (('Will Ferrell', 'Steve Carell'), 2),\n",
       " (('Will Ferrell', 'Paul Rudd'), 2),\n",
       " (('Will Ferrell', 'Christina Applegate'), 2),\n",
       " (('Will Ferrell', 'David Koechner'), 2),\n",
       " (('Paul Rudd', 'David Koechner'), 2),\n",
       " (('Christina Applegate', 'David Koechner'), 2),\n",
       " (('Cate Blanchett', 'Alec Baldwin'), 2),\n",
       " (('Christian Bale', 'Willem Dafoe'), 2),\n",
       " (('Daniel Radcliffe', 'Michael Gambon'), 2),\n",
       " (('Rupert Grint', 'Michael Gambon'), 2),\n",
       " (('Emma Watson', 'Michael Gambon'), 2),\n",
       " (('Johnny Depp', 'Freddie Highmore'), 2),\n",
       " (('Ioan Gruffudd', 'Jessica Alba'), 2),\n",
       " (('Ioan Gruffudd', 'Chris Evans'), 2),\n",
       " (('Ioan Gruffudd', 'Michael Chiklis'), 2),\n",
       " (('Ioan Gruffudd', 'Julian McMahon'), 2),\n",
       " (('Jessica Alba', 'Chris Evans'), 2),\n",
       " (('Jessica Alba', 'Michael Chiklis'), 2),\n",
       " (('Jessica Alba', 'Julian McMahon'), 2),\n",
       " (('Chris Evans', 'Michael Chiklis'), 2),\n",
       " (('Chris Evans', 'Julian McMahon'), 2),\n",
       " (('Michael Chiklis', 'Julian McMahon'), 2),\n",
       " (('Jim Carrey', 'Richard Jenkins'), 2),\n",
       " (('Joaquin Phoenix', 'Robert Patrick'), 2),\n",
       " (('Orlando Bloom', 'Bill Nighy'), 2),\n",
       " (('Keira Knightley', 'Bill Nighy'), 2),\n",
       " (('Daniel Craig', 'Eva Green'), 2),\n",
       " (('Daniel Craig', 'Jeffrey Wright'), 2),\n",
       " (('Ian McKellen', 'Jean Reno'), 2),\n",
       " (('Anna Faris', 'Regina Hall'), 2),\n",
       " (('Martin Lawrence', 'Nia Long'), 2),\n",
       " (('Adam Campbell', 'Jennifer Coolidge'), 2),\n",
       " (('Matt Damon', 'Julia Stiles'), 2),\n",
       " (('Nicolas Cage', 'Diane Kruger'), 2),\n",
       " (('Nicolas Cage', 'Jon Voight'), 2),\n",
       " (('Julie Andrews', 'Antonio Banderas'), 2),\n",
       " (('Milla Jovovich', 'Oded Fehr'), 2),\n",
       " (('Ben Stiller', 'Teri Polo'), 2),\n",
       " (('Ben Stiller', 'Robert De Niro'), 2),\n",
       " (('Michael Moore', 'George W. Bush'), 2),\n",
       " (('Bruce Willis', 'Matthew Perry'), 2),\n",
       " (('Matthew Perry', 'Kevin Pollak'), 2),\n",
       " (('Jennifer Garner', 'Jason Bateman'), 2),\n",
       " (('Nicole Kidman', 'Daniel Craig'), 2),\n",
       " (('Chris Pratt', 'Bryce Dallas Howard'), 1),\n",
       " (('Chris Pratt', 'Irrfan Khan'), 1),\n",
       " (('Chris Pratt', \"Vincent D'Onofrio\"), 1),\n",
       " (('Chris Pratt', 'Nick Robinson'), 1),\n",
       " (('Bryce Dallas Howard', 'Irrfan Khan'), 1),\n",
       " (('Bryce Dallas Howard', \"Vincent D'Onofrio\"), 1),\n",
       " (('Bryce Dallas Howard', 'Nick Robinson'), 1),\n",
       " (('Irrfan Khan', \"Vincent D'Onofrio\"), 1),\n",
       " (('Irrfan Khan', 'Nick Robinson'), 1),\n",
       " ((\"Vincent D'Onofrio\", 'Nick Robinson'), 1),\n",
       " (('Tom Hardy', 'Charlize Theron'), 1),\n",
       " (('Tom Hardy', 'Hugh Keays-Byrne'), 1),\n",
       " (('Tom Hardy', 'Nicholas Hoult'), 1),\n",
       " (('Tom Hardy', 'Josh Helman'), 1),\n",
       " (('Charlize Theron', 'Hugh Keays-Byrne'), 1),\n",
       " (('Charlize Theron', 'Nicholas Hoult'), 1),\n",
       " (('Charlize Theron', 'Josh Helman'), 1),\n",
       " (('Hugh Keays-Byrne', 'Nicholas Hoult'), 1),\n",
       " (('Hugh Keays-Byrne', 'Josh Helman'), 1),\n",
       " (('Nicholas Hoult', 'Josh Helman'), 1),\n",
       " (('Theo James', 'Ansel Elgort'), 1),\n",
       " (('Kate Winslet', 'Ansel Elgort'), 1),\n",
       " (('Ansel Elgort', 'Miles Teller'), 1),\n",
       " (('Harrison Ford', 'Mark Hamill'), 1),\n",
       " (('Harrison Ford', 'Carrie Fisher'), 1),\n",
       " (('Harrison Ford', 'Adam Driver'), 1),\n",
       " (('Harrison Ford', 'Daisy Ridley'), 1),\n",
       " (('Mark Hamill', 'Carrie Fisher'), 1),\n",
       " (('Mark Hamill', 'Adam Driver'), 1),\n",
       " (('Mark Hamill', 'Daisy Ridley'), 1),\n",
       " (('Carrie Fisher', 'Adam Driver'), 1),\n",
       " (('Carrie Fisher', 'Daisy Ridley'), 1),\n",
       " (('Adam Driver', 'Daisy Ridley'), 1),\n",
       " (('Vin Diesel', 'Jason Statham'), 1),\n",
       " (('Paul Walker', 'Jason Statham'), 1),\n",
       " (('Jason Statham', 'Michelle Rodriguez'), 1),\n",
       " (('Jason Statham', 'Dwayne Johnson'), 1),\n",
       " (('Michelle Rodriguez', 'Dwayne Johnson'), 1),\n",
       " (('Leonardo DiCaprio', 'Will Poulter'), 1),\n",
       " (('Leonardo DiCaprio', 'Domhnall Gleeson'), 1),\n",
       " (('Leonardo DiCaprio', 'Paul Anderson'), 1),\n",
       " (('Tom Hardy', 'Will Poulter'), 1),\n",
       " (('Tom Hardy', 'Domhnall Gleeson'), 1),\n",
       " (('Tom Hardy', 'Paul Anderson'), 1),\n",
       " (('Will Poulter', 'Domhnall Gleeson'), 1),\n",
       " (('Will Poulter', 'Paul Anderson'), 1),\n",
       " (('Domhnall Gleeson', 'Paul Anderson'), 1),\n",
       " (('Arnold Schwarzenegger', 'Jason Clarke'), 1),\n",
       " (('Arnold Schwarzenegger', 'Emilia Clarke'), 1),\n",
       " (('Arnold Schwarzenegger', 'Jai Courtney'), 1),\n",
       " (('Arnold Schwarzenegger', 'J.K. Simmons'), 1),\n",
       " (('Jason Clarke', 'Emilia Clarke'), 1),\n",
       " (('Jason Clarke', 'Jai Courtney'), 1),\n",
       " (('Jason Clarke', 'J.K. Simmons'), 1),\n",
       " (('Emilia Clarke', 'Jai Courtney'), 1),\n",
       " (('Emilia Clarke', 'J.K. Simmons'), 1),\n",
       " (('Jai Courtney', 'J.K. Simmons'), 1),\n",
       " (('Matt Damon', 'Jessica Chastain'), 1),\n",
       " (('Matt Damon', 'Kristen Wiig'), 1),\n",
       " (('Matt Damon', 'Jeff Daniels'), 1),\n",
       " (('Matt Damon', 'Michael PeÃ±a'), 1),\n",
       " (('Jessica Chastain', 'Kristen Wiig'), 1),\n",
       " (('Jessica Chastain', 'Jeff Daniels'), 1),\n",
       " (('Jessica Chastain', 'Michael PeÃ±a'), 1),\n",
       " (('Kristen Wiig', 'Jeff Daniels'), 1),\n",
       " (('Kristen Wiig', 'Michael PeÃ±a'), 1),\n",
       " (('Jeff Daniels', 'Michael PeÃ±a'), 1),\n",
       " (('Sandra Bullock', 'Jon Hamm'), 1),\n",
       " (('Sandra Bullock', 'Michael Keaton'), 1),\n",
       " (('Sandra Bullock', 'Allison Janney'), 1),\n",
       " (('Sandra Bullock', 'Steve Coogan'), 1),\n",
       " (('Jon Hamm', 'Michael Keaton'), 1),\n",
       " (('Jon Hamm', 'Allison Janney'), 1),\n",
       " (('Jon Hamm', 'Steve Coogan'), 1),\n",
       " (('Michael Keaton', 'Allison Janney'), 1),\n",
       " (('Michael Keaton', 'Steve Coogan'), 1),\n",
       " (('Allison Janney', 'Steve Coogan'), 1),\n",
       " (('Amy Poehler', 'Phyllis Smith'), 1),\n",
       " (('Amy Poehler', 'Richard Kind'), 1),\n",
       " (('Amy Poehler', 'Bill Hader'), 1),\n",
       " (('Amy Poehler', 'Lewis Black'), 1),\n",
       " (('Phyllis Smith', 'Richard Kind'), 1),\n",
       " (('Phyllis Smith', 'Bill Hader'), 1),\n",
       " (('Phyllis Smith', 'Lewis Black'), 1),\n",
       " (('Richard Kind', 'Bill Hader'), 1),\n",
       " (('Richard Kind', 'Lewis Black'), 1),\n",
       " (('Bill Hader', 'Lewis Black'), 1),\n",
       " (('Daniel Craig', 'Christoph Waltz'), 1),\n",
       " (('Daniel Craig', 'LÃ©a Seydoux'), 1),\n",
       " (('Daniel Craig', 'Monica Bellucci'), 1),\n",
       " (('Christoph Waltz', 'LÃ©a Seydoux'), 1),\n",
       " (('Christoph Waltz', 'Ralph Fiennes'), 1),\n",
       " (('Christoph Waltz', 'Monica Bellucci'), 1),\n",
       " (('LÃ©a Seydoux', 'Ralph Fiennes'), 1),\n",
       " (('LÃ©a Seydoux', 'Monica Bellucci'), 1),\n",
       " (('Ralph Fiennes', 'Monica Bellucci'), 1),\n",
       " (('Mila Kunis', 'Channing Tatum'), 1),\n",
       " (('Mila Kunis', 'Sean Bean'), 1),\n",
       " (('Mila Kunis', 'Eddie Redmayne'), 1),\n",
       " (('Mila Kunis', 'Douglas Booth'), 1),\n",
       " (('Channing Tatum', 'Sean Bean'), 1),\n",
       " (('Channing Tatum', 'Eddie Redmayne'), 1),\n",
       " (('Channing Tatum', 'Douglas Booth'), 1),\n",
       " (('Sean Bean', 'Eddie Redmayne'), 1),\n",
       " (('Sean Bean', 'Douglas Booth'), 1),\n",
       " (('Eddie Redmayne', 'Douglas Booth'), 1),\n",
       " (('Domhnall Gleeson', 'Alicia Vikander'), 1),\n",
       " (('Domhnall Gleeson', 'Oscar Isaac'), 1),\n",
       " (('Domhnall Gleeson', 'Sonoya Mizuno'), 1),\n",
       " (('Domhnall Gleeson', 'Corey Johnson'), 1),\n",
       " (('Alicia Vikander', 'Oscar Isaac'), 1),\n",
       " (('Alicia Vikander', 'Sonoya Mizuno'), 1),\n",
       " (('Alicia Vikander', 'Corey Johnson'), 1),\n",
       " (('Oscar Isaac', 'Sonoya Mizuno'), 1),\n",
       " (('Oscar Isaac', 'Corey Johnson'), 1),\n",
       " (('Sonoya Mizuno', 'Corey Johnson'), 1),\n",
       " (('Adam Sandler', 'Michelle Monaghan'), 1),\n",
       " (('Adam Sandler', 'Peter Dinklage'), 1),\n",
       " (('Adam Sandler', 'Josh Gad'), 1),\n",
       " (('Michelle Monaghan', 'Peter Dinklage'), 1),\n",
       " (('Michelle Monaghan', 'Josh Gad'), 1),\n",
       " (('Michelle Monaghan', 'Kevin James'), 1),\n",
       " (('Peter Dinklage', 'Josh Gad'), 1),\n",
       " (('Peter Dinklage', 'Kevin James'), 1),\n",
       " (('Josh Gad', 'Kevin James'), 1),\n",
       " (('Chris Hemsworth', 'Mark Ruffalo'), 1),\n",
       " (('Chris Hemsworth', 'Chris Evans'), 1),\n",
       " (('Mark Ruffalo', 'Chris Evans'), 1),\n",
       " (('Samuel L. Jackson', 'Kurt Russell'), 1),\n",
       " (('Samuel L. Jackson', 'Jennifer Jason Leigh'), 1),\n",
       " (('Samuel L. Jackson', 'Walton Goggins'), 1),\n",
       " (('Samuel L. Jackson', 'DemiÃ¡n Bichir'), 1),\n",
       " (('Kurt Russell', 'Jennifer Jason Leigh'), 1),\n",
       " (('Kurt Russell', 'Walton Goggins'), 1),\n",
       " (('Kurt Russell', 'DemiÃ¡n Bichir'), 1),\n",
       " (('Jennifer Jason Leigh', 'Walton Goggins'), 1),\n",
       " (('Jennifer Jason Leigh', 'DemiÃ¡n Bichir'), 1),\n",
       " (('Walton Goggins', 'DemiÃ¡n Bichir'), 1),\n",
       " (('Liam Neeson', 'Forest Whitaker'), 1),\n",
       " (('Liam Neeson', 'Dougray Scott'), 1),\n",
       " (('Forest Whitaker', 'Maggie Grace'), 1),\n",
       " (('Forest Whitaker', 'Famke Janssen'), 1),\n",
       " (('Forest Whitaker', 'Dougray Scott'), 1),\n",
       " (('Maggie Grace', 'Dougray Scott'), 1),\n",
       " (('Famke Janssen', 'Dougray Scott'), 1),\n",
       " (('Paul Rudd', 'Michael Douglas'), 1),\n",
       " (('Paul Rudd', 'Evangeline Lilly'), 1),\n",
       " (('Paul Rudd', 'Corey Stoll'), 1),\n",
       " (('Paul Rudd', 'Bobby Cannavale'), 1),\n",
       " (('Michael Douglas', 'Evangeline Lilly'), 1),\n",
       " (('Michael Douglas', 'Corey Stoll'), 1),\n",
       " (('Michael Douglas', 'Bobby Cannavale'), 1),\n",
       " (('Evangeline Lilly', 'Corey Stoll'), 1),\n",
       " (('Evangeline Lilly', 'Bobby Cannavale'), 1),\n",
       " (('Corey Stoll', 'Bobby Cannavale'), 1),\n",
       " (('Lily James', 'Cate Blanchett'), 1),\n",
       " (('Lily James', 'Richard Madden'), 1),\n",
       " (('Lily James', 'Helena Bonham Carter'), 1),\n",
       " (('Lily James', 'Holliday Grainger'), 1),\n",
       " (('Cate Blanchett', 'Richard Madden'), 1),\n",
       " (('Cate Blanchett', 'Helena Bonham Carter'), 1),\n",
       " (('Cate Blanchett', 'Holliday Grainger'), 1),\n",
       " (('Richard Madden', 'Helena Bonham Carter'), 1),\n",
       " (('Richard Madden', 'Holliday Grainger'), 1),\n",
       " (('Helena Bonham Carter', 'Holliday Grainger'), 1),\n",
       " (('Britt Robertson', 'George Clooney'), 1),\n",
       " (('Britt Robertson', 'Raffey Cassidy'), 1),\n",
       " (('Britt Robertson', 'Thomas Robinson'), 1),\n",
       " (('Britt Robertson', 'Hugh Laurie'), 1),\n",
       " (('George Clooney', 'Raffey Cassidy'), 1),\n",
       " (('George Clooney', 'Thomas Robinson'), 1),\n",
       " (('George Clooney', 'Hugh Laurie'), 1),\n",
       " (('Raffey Cassidy', 'Thomas Robinson'), 1),\n",
       " (('Raffey Cassidy', 'Hugh Laurie'), 1),\n",
       " (('Thomas Robinson', 'Hugh Laurie'), 1),\n",
       " (('Jake Gyllenhaal', 'Rachel McAdams'), 1),\n",
       " (('Jake Gyllenhaal', 'Forest Whitaker'), 1),\n",
       " (('Jake Gyllenhaal', 'Oona Laurence'), 1),\n",
       " (('Jake Gyllenhaal', '50 Cent'), 1),\n",
       " (('Rachel McAdams', 'Forest Whitaker'), 1),\n",
       " (('Rachel McAdams', 'Oona Laurence'), 1),\n",
       " (('Rachel McAdams', '50 Cent'), 1),\n",
       " (('Forest Whitaker', 'Oona Laurence'), 1),\n",
       " (('Forest Whitaker', '50 Cent'), 1),\n",
       " (('Oona Laurence', '50 Cent'), 1),\n",
       " (('Dwayne Johnson', 'Alexandra Daddario'), 1),\n",
       " (('Dwayne Johnson', 'Ioan Gruffudd'), 1),\n",
       " (('Dwayne Johnson', 'Archie Panjabi'), 1),\n",
       " (('Alexandra Daddario', 'Carla Gugino'), 1),\n",
       " (('Alexandra Daddario', 'Ioan Gruffudd'), 1),\n",
       " (('Alexandra Daddario', 'Archie Panjabi'), 1),\n",
       " (('Carla Gugino', 'Ioan Gruffudd'), 1),\n",
       " (('Carla Gugino', 'Archie Panjabi'), 1),\n",
       " (('Ioan Gruffudd', 'Archie Panjabi'), 1),\n",
       " (('Dakota Johnson', 'Jamie Dornan'), 1),\n",
       " (('Dakota Johnson', 'Jennifer Ehle'), 1),\n",
       " (('Dakota Johnson', 'Eloise Mumford'), 1),\n",
       " (('Dakota Johnson', 'Victor Rasuk'), 1),\n",
       " (('Jamie Dornan', 'Jennifer Ehle'), 1),\n",
       " (('Jamie Dornan', 'Eloise Mumford'), 1),\n",
       " (('Jamie Dornan', 'Victor Rasuk'), 1),\n",
       " (('Jennifer Ehle', 'Eloise Mumford'), 1),\n",
       " (('Jennifer Ehle', 'Victor Rasuk'), 1),\n",
       " (('Eloise Mumford', 'Victor Rasuk'), 1),\n",
       " (('Christian Bale', 'Steve Carell'), 1),\n",
       " (('Christian Bale', 'Ryan Gosling'), 1),\n",
       " (('Christian Bale', 'Brad Pitt'), 1),\n",
       " (('Steve Carell', 'Brad Pitt'), 1),\n",
       " (('Steve Carell', 'Melissa Leo'), 1),\n",
       " (('Ryan Gosling', 'Brad Pitt'), 1),\n",
       " (('Ryan Gosling', 'Melissa Leo'), 1),\n",
       " (('Brad Pitt', 'Melissa Leo'), 1),\n",
       " (('Tom Cruise', 'Rebecca Ferguson'), 1),\n",
       " (('Jeremy Renner', 'Rebecca Ferguson'), 1),\n",
       " (('Jeremy Renner', 'Ving Rhames'), 1),\n",
       " (('Simon Pegg', 'Rebecca Ferguson'), 1),\n",
       " (('Simon Pegg', 'Ving Rhames'), 1),\n",
       " (('Rebecca Ferguson', 'Ving Rhames'), 1),\n",
       " (('Mark Wahlberg', 'Amanda Seyfried'), 1),\n",
       " (('Mark Wahlberg', 'Jessica Barth'), 1),\n",
       " (('Seth MacFarlane', 'Amanda Seyfried'), 1),\n",
       " (('Seth MacFarlane', 'Jessica Barth'), 1),\n",
       " (('Amanda Seyfried', 'Jessica Barth'), 1),\n",
       " (('Amanda Seyfried', 'Giovanni Ribisi'), 1),\n",
       " (('Jessica Barth', 'Giovanni Ribisi'), 1),\n",
       " (('Taron Egerton', 'Colin Firth'), 1),\n",
       " (('Taron Egerton', 'Samuel L. Jackson'), 1),\n",
       " (('Taron Egerton', 'Michael Caine'), 1),\n",
       " (('Taron Egerton', 'Mark Strong'), 1),\n",
       " (('Colin Firth', 'Samuel L. Jackson'), 1),\n",
       " (('Colin Firth', 'Michael Caine'), 1),\n",
       " (('Colin Firth', 'Mark Strong'), 1),\n",
       " (('Samuel L. Jackson', 'Michael Caine'), 1),\n",
       " (('Samuel L. Jackson', 'Mark Strong'), 1),\n",
       " (('Michael Caine', 'Mark Strong'), 1),\n",
       " (('Mark Ruffalo', 'Michael Keaton'), 1),\n",
       " (('Mark Ruffalo', 'Rachel McAdams'), 1),\n",
       " (('Mark Ruffalo', 'Liev Schreiber'), 1),\n",
       " (('Mark Ruffalo', 'John Slattery'), 1),\n",
       " (('Michael Keaton', 'Rachel McAdams'), 1),\n",
       " (('Michael Keaton', 'Liev Schreiber'), 1),\n",
       " (('Michael Keaton', 'John Slattery'), 1),\n",
       " (('Rachel McAdams', 'Liev Schreiber'), 1),\n",
       " (('Rachel McAdams', 'John Slattery'), 1),\n",
       " (('Liev Schreiber', 'John Slattery'), 1),\n",
       " ((\"Dylan O'Brien\", 'Thomas Brodie-Sangster'), 1),\n",
       " ((\"Dylan O'Brien\", 'Giancarlo Esposito'), 1),\n",
       " ((\"Dylan O'Brien\", 'Aidan Gillen'), 1),\n",
       " (('Kaya Scodelario', 'Thomas Brodie-Sangster'), 1),\n",
       " (('Kaya Scodelario', 'Giancarlo Esposito'), 1),\n",
       " (('Kaya Scodelario', 'Aidan Gillen'), 1),\n",
       " (('Thomas Brodie-Sangster', 'Giancarlo Esposito'), 1),\n",
       " (('Thomas Brodie-Sangster', 'Aidan Gillen'), 1),\n",
       " (('Giancarlo Esposito', 'Aidan Gillen'), 1),\n",
       " (('Sharlto Copley', 'Dev Patel'), 1),\n",
       " (('Sharlto Copley', 'Ninja'), 1),\n",
       " (('Sharlto Copley', 'Yolandi Visser'), 1),\n",
       " (('Sharlto Copley', 'Jose Pablo Cantillo'), 1),\n",
       " (('Dev Patel', 'Ninja'), 1),\n",
       " (('Dev Patel', 'Yolandi Visser'), 1),\n",
       " (('Dev Patel', 'Jose Pablo Cantillo'), 1),\n",
       " (('Ninja', 'Yolandi Visser'), 1),\n",
       " (('Ninja', 'Jose Pablo Cantillo'), 1),\n",
       " (('Yolandi Visser', 'Jose Pablo Cantillo'), 1),\n",
       " (('Anna Kendrick', 'Hailee Steinfeld'), 1),\n",
       " (('Rebel Wilson', 'Hailee Steinfeld'), 1),\n",
       " (('Rebel Wilson', 'Brittany Snow'), 1),\n",
       " (('Rebel Wilson', 'Skylar Astin'), 1),\n",
       " (('Hailee Steinfeld', 'Brittany Snow'), 1),\n",
       " (('Hailee Steinfeld', 'Skylar Astin'), 1),\n",
       " (('Brittany Snow', 'Skylar Astin'), 1),\n",
       " (('Tom Hanks', 'Mark Rylance'), 1),\n",
       " (('Tom Hanks', 'Amy Ryan'), 1),\n",
       " (('Tom Hanks', 'Alan Alda'), 1),\n",
       " (('Tom Hanks', 'Sebastian Koch'), 1),\n",
       " (('Mark Rylance', 'Amy Ryan'), 1),\n",
       " (('Mark Rylance', 'Alan Alda'), 1),\n",
       " (('Mark Rylance', 'Sebastian Koch'), 1),\n",
       " (('Amy Ryan', 'Alan Alda'), 1),\n",
       " (('Amy Ryan', 'Sebastian Koch'), 1),\n",
       " (('Alan Alda', 'Sebastian Koch'), 1),\n",
       " (('Jack Black', 'Dylan Minnette'), 1),\n",
       " (('Jack Black', 'Odeya Rush'), 1),\n",
       " (('Jack Black', 'Amy Ryan'), 1),\n",
       " (('Jack Black', 'Jillian Bell'), 1),\n",
       " (('Dylan Minnette', 'Odeya Rush'), 1),\n",
       " (('Dylan Minnette', 'Amy Ryan'), 1),\n",
       " (('Dylan Minnette', 'Jillian Bell'), 1),\n",
       " (('Odeya Rush', 'Amy Ryan'), 1),\n",
       " (('Odeya Rush', 'Jillian Bell'), 1),\n",
       " (('Amy Ryan', 'Jillian Bell'), 1),\n",
       " (('Brie Larson', 'Jacob Tremblay'), 1),\n",
       " (('Brie Larson', 'Joan Allen'), 1),\n",
       " (('Brie Larson', 'Sean Bridgers'), 1),\n",
       " (('Brie Larson', 'William H. Macy'), 1),\n",
       " (('Jacob Tremblay', 'Joan Allen'), 1),\n",
       " (('Jacob Tremblay', 'Sean Bridgers'), 1),\n",
       " (('Jacob Tremblay', 'William H. Macy'), 1),\n",
       " (('Joan Allen', 'Sean Bridgers'), 1),\n",
       " (('Joan Allen', 'William H. Macy'), 1),\n",
       " (('Sean Bridgers', 'William H. Macy'), 1),\n",
       " (('Raymond Ochoa', 'Jack Bright'), 1),\n",
       " (('Raymond Ochoa', 'Jeffrey Wright'), 1),\n",
       " (('Raymond Ochoa', 'Frances McDormand'), 1),\n",
       " (('Raymond Ochoa', 'Maleah Nipay-Padilla'), 1),\n",
       " (('Jack Bright', 'Jeffrey Wright'), 1),\n",
       " (('Jack Bright', 'Frances McDormand'), 1),\n",
       " (('Jack Bright', 'Maleah Nipay-Padilla'), 1),\n",
       " (('Jeffrey Wright', 'Frances McDormand'), 1),\n",
       " (('Jeffrey Wright', 'Maleah Nipay-Padilla'), 1),\n",
       " (('Frances McDormand', 'Maleah Nipay-Padilla'), 1),\n",
       " (('Liam Neeson', 'Ed Harris'), 1),\n",
       " (('Liam Neeson', 'Joel Kinnaman'), 1),\n",
       " (('Liam Neeson', 'Bruce McGill'), 1),\n",
       " (('Ed Harris', 'Joel Kinnaman'), 1),\n",
       " (('Ed Harris', 'Boyd Holbrook'), 1),\n",
       " (('Ed Harris', 'Bruce McGill'), 1),\n",
       " (('Joel Kinnaman', 'Boyd Holbrook'), 1),\n",
       " (('Joel Kinnaman', 'Bruce McGill'), 1),\n",
       " (('Boyd Holbrook', 'Bruce McGill'), 1),\n",
       " (('Saoirse Ronan', 'Domhnall Gleeson'), 1),\n",
       " (('Saoirse Ronan', 'Emory Cohen'), 1),\n",
       " (('Saoirse Ronan', 'Emily Bett Rickards'), 1),\n",
       " (('Saoirse Ronan', \"Eileen O'Higgins\"), 1),\n",
       " (('Domhnall Gleeson', 'Emory Cohen'), 1),\n",
       " (('Domhnall Gleeson', 'Emily Bett Rickards'), 1),\n",
       " (('Domhnall Gleeson', \"Eileen O'Higgins\"), 1),\n",
       " (('Emory Cohen', 'Emily Bett Rickards'), 1),\n",
       " (('Emory Cohen', \"Eileen O'Higgins\"), 1),\n",
       " (('Emily Bett Rickards', \"Eileen O'Higgins\"), 1),\n",
       " ((\"O'Shea Jackson Jr.\", 'Corey Hawkins'), 1),\n",
       " ((\"O'Shea Jackson Jr.\", 'Jason Mitchell'), 1),\n",
       " ((\"O'Shea Jackson Jr.\", 'Neil Brown Jr.'), 1),\n",
       " ((\"O'Shea Jackson Jr.\", 'Aldis Hodge'), 1),\n",
       " (('Corey Hawkins', 'Jason Mitchell'), 1),\n",
       " (('Corey Hawkins', 'Neil Brown Jr.'), 1),\n",
       " (('Corey Hawkins', 'Aldis Hodge'), 1),\n",
       " (('Jason Mitchell', 'Neil Brown Jr.'), 1),\n",
       " (('Jason Mitchell', 'Aldis Hodge'), 1),\n",
       " (('Neil Brown Jr.', 'Aldis Hodge'), 1),\n",
       " (('Vin Diesel', 'Rose Leslie'), 1),\n",
       " (('Vin Diesel', 'Michael Caine'), 1),\n",
       " (('Vin Diesel', 'Elijah Wood'), 1),\n",
       " (('Vin Diesel', 'Ã“lafur Darri Ã“lafsson'), 1),\n",
       " (('Rose Leslie', 'Michael Caine'), 1),\n",
       " (('Rose Leslie', 'Elijah Wood'), 1),\n",
       " (('Rose Leslie', 'Ã“lafur Darri Ã“lafsson'), 1),\n",
       " (('Michael Caine', 'Elijah Wood'), 1),\n",
       " (('Michael Caine', 'Ã“lafur Darri Ã“lafsson'), 1),\n",
       " (('Elijah Wood', 'Ã“lafur Darri Ã“lafsson'), 1),\n",
       " (('Henry Cavill', 'Armie Hammer'), 1),\n",
       " (('Henry Cavill', 'Alicia Vikander'), 1),\n",
       " (('Henry Cavill', 'Elizabeth Debicki'), 1),\n",
       " (('Henry Cavill', 'Luca Calvani'), 1),\n",
       " (('Armie Hammer', 'Alicia Vikander'), 1),\n",
       " (('Armie Hammer', 'Elizabeth Debicki'), 1),\n",
       " (('Armie Hammer', 'Luca Calvani'), 1),\n",
       " (('Alicia Vikander', 'Elizabeth Debicki'), 1),\n",
       " (('Alicia Vikander', 'Luca Calvani'), 1),\n",
       " (('Elizabeth Debicki', 'Luca Calvani'), 1),\n",
       " (('Blake Lively', 'Michiel Huisman'), 1),\n",
       " (('Blake Lively', 'Harrison Ford'), 1),\n",
       " (('Blake Lively', 'Ellen Burstyn'), 1),\n",
       " (('Blake Lively', 'Kathy Baker'), 1),\n",
       " (('Michiel Huisman', 'Harrison Ford'), 1),\n",
       " (('Michiel Huisman', 'Ellen Burstyn'), 1),\n",
       " (('Michiel Huisman', 'Kathy Baker'), 1),\n",
       " (('Harrison Ford', 'Ellen Burstyn'), 1),\n",
       " (('Harrison Ford', 'Kathy Baker'), 1),\n",
       " (('Ellen Burstyn', 'Kathy Baker'), 1),\n",
       " (('Sharlto Copley', 'Haley Bennett'), 1),\n",
       " (('Sharlto Copley', 'Danila Kozlovskiy'), 1),\n",
       " (('Sharlto Copley', 'Tim Roth'), 1),\n",
       " (('Sharlto Copley', 'Andrei Dementiev'), 1),\n",
       " (('Haley Bennett', 'Danila Kozlovskiy'), 1),\n",
       " (('Haley Bennett', 'Tim Roth'), 1),\n",
       " (('Haley Bennett', 'Andrei Dementiev'), 1),\n",
       " (('Danila Kozlovskiy', 'Tim Roth'), 1),\n",
       " (('Danila Kozlovskiy', 'Andrei Dementiev'), 1),\n",
       " (('Tim Roth', 'Andrei Dementiev'), 1),\n",
       " (('Jim Parsons', 'Rihanna'), 1),\n",
       " (('Jim Parsons', 'Steve Martin'), 1),\n",
       " (('Jim Parsons', 'Jennifer Lopez'), 1),\n",
       " (('Jim Parsons', 'Matt Jones'), 1),\n",
       " (('Rihanna', 'Steve Martin'), 1),\n",
       " (('Rihanna', 'Jennifer Lopez'), 1),\n",
       " (('Rihanna', 'Matt Jones'), 1),\n",
       " (('Steve Martin', 'Jennifer Lopez'), 1),\n",
       " (('Steve Martin', 'Matt Jones'), 1),\n",
       " (('Jennifer Lopez', 'Matt Jones'), 1),\n",
       " (('Nat Wolff', 'Cara Delevingne'), 1),\n",
       " (('Nat Wolff', 'Halston Sage'), 1),\n",
       " (('Nat Wolff', 'Justice Smith'), 1),\n",
       " (('Nat Wolff', 'Austin Abrams'), 1),\n",
       " (('Cara Delevingne', 'Halston Sage'), 1),\n",
       " (('Cara Delevingne', 'Justice Smith'), 1),\n",
       " (('Cara Delevingne', 'Austin Abrams'), 1),\n",
       " (('Halston Sage', 'Justice Smith'), 1),\n",
       " (('Halston Sage', 'Austin Abrams'), 1),\n",
       " (('Justice Smith', 'Austin Abrams'), 1),\n",
       " (('Cate Blanchett', 'Rooney Mara'), 1),\n",
       " (('Cate Blanchett', 'Kyle Chandler'), 1),\n",
       " (('Cate Blanchett', 'Sarah Paulson'), 1),\n",
       " (('Cate Blanchett', 'Jake Lacy'), 1),\n",
       " (('Rooney Mara', 'Kyle Chandler'), 1),\n",
       " (('Rooney Mara', 'Sarah Paulson'), 1),\n",
       " (('Rooney Mara', 'Jake Lacy'), 1),\n",
       " (('Kyle Chandler', 'Sarah Paulson'), 1),\n",
       " (('Kyle Chandler', 'Jake Lacy'), 1),\n",
       " (('Sarah Paulson', 'Jake Lacy'), 1),\n",
       " (('Robert De Niro', 'Anne Hathaway'), 1),\n",
       " (('Robert De Niro', 'Rene Russo'), 1),\n",
       " (('Robert De Niro', 'Anders Holm'), 1),\n",
       " (('Robert De Niro', 'JoJo Kushner'), 1),\n",
       " (('Anne Hathaway', 'Rene Russo'), 1),\n",
       " (('Anne Hathaway', 'Anders Holm'), 1),\n",
       " (('Anne Hathaway', 'JoJo Kushner'), 1),\n",
       " (('Rene Russo', 'Anders Holm'), 1),\n",
       " (('Rene Russo', 'JoJo Kushner'), 1),\n",
       " (('Anders Holm', 'JoJo Kushner'), 1),\n",
       " (('Jason Clarke', 'Jake Gyllenhaal'), 1),\n",
       " (('Jason Clarke', 'Josh Brolin'), 1),\n",
       " (('Jason Clarke', 'John Hawkes'), 1),\n",
       " (('Jason Clarke', 'Sam Worthington'), 1),\n",
       " (('Jake Gyllenhaal', 'Josh Brolin'), 1),\n",
       " (('Jake Gyllenhaal', 'John Hawkes'), 1),\n",
       " (('Jake Gyllenhaal', 'Sam Worthington'), 1),\n",
       " (('Josh Brolin', 'John Hawkes'), 1),\n",
       " (('Josh Brolin', 'Sam Worthington'), 1),\n",
       " ...]"
      ]
     },
     "execution_count": 143,
     "metadata": {},
     "output_type": "execute_result"
    }
   ],
   "source": [
    "mass = {}\n",
    "info = data.cast.str.split('|')\n",
    "\n",
    "for i in range (0,len(info)):\n",
    "    dat = list(combinations(info[i], 2))\n",
    "    for listr in dat:  # осуществление перебора элементов комбинаций для добавления в словарь\n",
    "        if listr in mass:\n",
    "            mass[listr] += 1  # в случае повторения комбинации в словаре значение повторения комбинации увеличивается\n",
    "        else:\n",
    "            mass[listr] = 1  # добавление комбинации в словарь, значение повторения комбинации в словаре первоначально == 1\n",
    "            \n",
    "sorted(mass.items(), key=operator.itemgetter(1), reverse=True)"
   ]
  },
  {
   "cell_type": "markdown",
   "metadata": {
    "colab_type": "text",
    "id": "4ymnxEVoVqAW"
   },
   "source": [
    "ВАРИАНТ 2"
   ]
  },
  {
   "cell_type": "markdown",
   "metadata": {
    "colab_type": "text",
    "id": "U0nONFnGVqAX"
   },
   "source": [
    "# Submission"
   ]
  },
  {
   "cell_type": "code",
   "execution_count": 146,
   "metadata": {
    "colab": {},
    "colab_type": "code",
    "id": "IfcaRO9-VqAX",
    "outputId": "0f132912-32bb-4196-c98c-abfbc4ad5a5f"
   },
   "outputs": [
    {
     "data": {
      "text/plain": [
       "{'1': '3. Pirates of the Caribbean: On Stranger Tides (tt1298650)',\n",
       " '2': '2. Gods and Generals (tt0279111)',\n",
       " '3': '3. Winnie the Pooh (tt1449283)',\n",
       " '4': '2. 110',\n",
       " '5': '1. 107',\n",
       " '6': '5. Avatar (tt0499549)',\n",
       " '7': '5. The Lone Ranger (tt1210819)',\n",
       " '8': '1. 1478',\n",
       " '9': '4. The Dark Knight (tt0468569)',\n",
       " '10': '5. The Lone Ranger (tt1210819)',\n",
       " '11': '3. Drama',\n",
       " '12': '1. Drama',\n",
       " '13': '5. Peter Jackson',\n",
       " '14': '3. Robert Rodriguez',\n",
       " '15': '3. Chris Hemsworth',\n",
       " '16': '3. Matt Damon',\n",
       " '17': '2. Action',\n",
       " '18': '1. K-19: The Widowmaker (tt0267626)',\n",
       " '19': '5. 2015',\n",
       " '20': '1. 2014',\n",
       " '21': '4. Сентябрь',\n",
       " '22': '2. 450',\n",
       " '23': '5. Peter Jackson',\n",
       " '24': '5. Four By Two Productions',\n",
       " '25': '3. Midnight Picture Show',\n",
       " '26': '1. Inside Out, The Dark Knight, 12 Years a Slave',\n",
       " '27': '5. Daniel Radcliffe & Rupert Grint'}"
      ]
     },
     "execution_count": 146,
     "metadata": {},
     "output_type": "execute_result"
    }
   ],
   "source": [
    "# в конце можно посмотреть свои ответы к каждому вопросу\n",
    "answers"
   ]
  },
  {
   "cell_type": "code",
   "execution_count": 147,
   "metadata": {},
   "outputs": [
    {
     "data": {
      "text/plain": [
       "27"
      ]
     },
     "execution_count": 147,
     "metadata": {},
     "output_type": "execute_result"
    }
   ],
   "source": [
    "len(answers)"
   ]
  }
 ],
 "metadata": {
  "colab": {
   "name": "Copy of [SF-DST] Movies IMBD v4.1 TEMPLATE.ipynb",
   "provenance": []
  },
  "kernelspec": {
   "display_name": "Python 3",
   "language": "python",
   "name": "python3"
  },
  "language_info": {
   "codemirror_mode": {
    "name": "ipython",
    "version": 3
   },
   "file_extension": ".py",
   "mimetype": "text/x-python",
   "name": "python",
   "nbconvert_exporter": "python",
   "pygments_lexer": "ipython3",
   "version": "3.7.6"
  }
 },
 "nbformat": 4,
 "nbformat_minor": 1
}
