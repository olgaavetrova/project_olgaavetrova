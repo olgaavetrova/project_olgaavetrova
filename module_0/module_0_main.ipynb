{
 "cells": [
  {
   "cell_type": "code",
   "execution_count": 22,
   "metadata": {},
   "outputs": [],
   "source": [
    "import numpy as np"
   ]
  },
  {
   "cell_type": "code",
   "execution_count": 23,
   "metadata": {},
   "outputs": [],
   "source": [
    "def game_core(number):\n",
    "    '''Guessing number program'''\n",
    "    count = 1\n",
    "    predict = np.random.randint(1,101)\n",
    "    left_border = 0\n",
    "    right_border = predict\n",
    "    step = 10 #initiating a step\n",
    "    while number != predict:\n",
    "        count += 1\n",
    "        if number>predict: \n",
    "            left_border = predict + 1\n",
    "            predict = predict + step #increase in estimated number\n",
    "            right_border = predict\n",
    "            \n",
    "        elif number<predict:\n",
    "            right_border = predict - 1\n",
    "            predict =  int((left_border+right_border) / 2) #determination of the average value            \n",
    "    return(count)\n",
    "\n",
    "\n",
    "def score_game(game_core):\n",
    "    '''Function of initializing the guessed number and starting the game'''\n",
    "    count_ls = []\n",
    "    np.random.seed(1)  # fixation RANDOM SEED\n",
    "    random_array = np.random.randint(1,101, size=(1000))\n",
    "    for number in random_array:\n",
    "        count_ls.append(game_core(number))\n",
    "    score = int(np.mean(count_ls))\n",
    "   \n",
    "    print(\"Ваш алгоритм угадывает число в среднем за\", score, \"попыток\")\n",
    "    return(score)"
   ]
  },
  {
   "cell_type": "code",
   "execution_count": 24,
   "metadata": {},
   "outputs": [
    {
     "name": "stdout",
     "output_type": "stream",
     "text": [
      "Ваш алгоритм угадывает число в среднем за 8 попыток\n"
     ]
    },
    {
     "data": {
      "text/plain": [
       "8"
      ]
     },
     "execution_count": 24,
     "metadata": {},
     "output_type": "execute_result"
    }
   ],
   "source": [
    "score_game(game_core)"
   ]
  },
  {
   "cell_type": "code",
   "execution_count": null,
   "metadata": {},
   "outputs": [],
   "source": []
  }
 ],
 "metadata": {
  "kernelspec": {
   "display_name": "Python 3",
   "language": "python",
   "name": "python3"
  },
  "language_info": {
   "codemirror_mode": {
    "name": "ipython",
    "version": 3
   },
   "file_extension": ".py",
   "mimetype": "text/x-python",
   "name": "python",
   "nbconvert_exporter": "python",
   "pygments_lexer": "ipython3",
   "version": "3.7.6"
  }
 },
 "nbformat": 4,
 "nbformat_minor": 4
}
